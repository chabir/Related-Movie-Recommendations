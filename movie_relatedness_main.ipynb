{
 "cells": [
  {
   "cell_type": "markdown",
   "metadata": {},
   "source": [
    "# Movies' related-ness"
   ]
  },
  {
   "cell_type": "markdown",
   "metadata": {},
   "source": [
    "### key words: Recommendation System, nlp, tdidf, MovieLens"
   ]
  },
  {
   "cell_type": "markdown",
   "metadata": {},
   "source": [
    " "
   ]
  },
  {
   "cell_type": "markdown",
   "metadata": {},
   "source": [
    " "
   ]
  },
  {
   "cell_type": "markdown",
   "metadata": {},
   "source": [
    "Here, the goal is to build a model / code that orders movies based on their \"relatedness\" using the MovieLens\n",
    "20M dataset (https://grouplens.org/datasets/movielens/20m/) which contains over 20 thousands movie titles. We will frame the problem\n",
    "regarding the “relatedness” of movies and after exploring the dataset, we will show different\n",
    "approaches to propose an ordered list of movies given a particular one.\n",
    "\n",
    "Coming from the field of supervised learning, the recommendation system / discovery search is quite new and quite substile, I had to make some research in order to understand the complexity of the recommendation engine field and to understand how the subjectivity of the movies relatedness can be measured.\n",
    "\n",
    "To say that two movies are related can be interpreted in many ways: the similarity in the titles, the\n",
    "description, the genres, the year range, the popularity or the ratings relative to one-another is one way\n",
    "to define the relatedness between movies.\n",
    "\n",
    "In this exercise, we will try to explore quickly the dataset, propose some features for relatedness and\n",
    "explore different techniques that I discovered over the last few days during my readings.\n",
    "\n",
    "The code was developed in python on an AWS EC2 instance."
   ]
  },
  {
   "cell_type": "markdown",
   "metadata": {},
   "source": [
    " "
   ]
  },
  {
   "cell_type": "code",
   "execution_count": null,
   "metadata": {},
   "outputs": [],
   "source": []
  },
  {
   "cell_type": "code",
   "execution_count": null,
   "metadata": {},
   "outputs": [],
   "source": []
  },
  {
   "cell_type": "code",
   "execution_count": 3,
   "metadata": {},
   "outputs": [],
   "source": [
    "# Readings:\n",
    "\n",
    "# https://www.slideshare.net/gabrielspmoreira/discovering-users-topics-of-interest-in-recommender-systems-tdc-sp-2016\n",
    "# https://www.kaggle.com/rounakbanik/movie-recommender-systems\n",
    "# https://stackoverflow.com/questions/42440621/how-term-frequency-is-calculated-in-tfidfvectorizer/42451555#42451555\n",
    "# https://stackoverflow.com/questions/12118720/python-tf-idf-cosine-to-find-document-similarity\n",
    "# https://en.wikipedia.org/wiki/Learning_to_rank\n",
    "# https://stackoverflow.com/questions/44741928/beautifulsoup-scraping-titles-from-www-themoviedb-org\n",
    "# https://www.coursera.org/specializations/recommender-systems?ranMID=40328&ranEAID=je6NUbpObpQ&ranSiteID=je6NUbpObpQ-SDyYTYayqBBJtH85YOKI1A&siteID=je6NUbpObpQ-SDyYTYayqBBJtH85YOKI1A&utm_content=10&utm_medium=partners&utm_source=linkshare&utm_campaign=je6NUbpObpQ\n",
    "\n",
    "# https://beckernick.github.io/matrix-factorization-recommender/\n",
    "# https://medium.com/@m_n_malaeb/recall-and-precision-at-k-for-recommender-systems-618483226c54"
   ]
  },
  {
   "cell_type": "code",
   "execution_count": 4,
   "metadata": {},
   "outputs": [],
   "source": [
    "import pandas as pd\n",
    "import gc\n",
    "import glob\n",
    "import numpy as np"
   ]
  },
  {
   "cell_type": "code",
   "execution_count": 5,
   "metadata": {},
   "outputs": [],
   "source": [
    "%matplotlib inline\n",
    "import matplotlib\n",
    "import lightgbm as lgb\n",
    "from sklearn.metrics import mean_squared_error\n",
    "from sklearn.model_selection import KFold\n",
    "import matplotlib.pyplot as plt"
   ]
  },
  {
   "cell_type": "code",
   "execution_count": 6,
   "metadata": {},
   "outputs": [
    {
     "name": "stdout",
     "output_type": "stream",
     "text": [
      "main.ipynb  ml-20m.zip\tml20m  scraping.ipynb\r\n"
     ]
    }
   ],
   "source": [
    "!ls"
   ]
  },
  {
   "cell_type": "markdown",
   "metadata": {},
   "source": [
    "Dataset is available here: https://grouplens.org/datasets/movielens/20m/"
   ]
  },
  {
   "cell_type": "code",
   "execution_count": null,
   "metadata": {},
   "outputs": [],
   "source": []
  },
  {
   "cell_type": "code",
   "execution_count": 7,
   "metadata": {},
   "outputs": [
    {
     "data": {
      "text/plain": [
       "['/jet/prs/workspace/Movie/ml20m/genome-scores.csv',\n",
       " '/jet/prs/workspace/Movie/ml20m/movies.csv',\n",
       " '/jet/prs/workspace/Movie/ml20m/genome-tags.csv',\n",
       " '/jet/prs/workspace/Movie/ml20m/tags.csv',\n",
       " '/jet/prs/workspace/Movie/ml20m/ratings.csv',\n",
       " '/jet/prs/workspace/Movie/ml20m/README.txt',\n",
       " '/jet/prs/workspace/Movie/ml20m/movie_desc.csv',\n",
       " '/jet/prs/workspace/Movie/ml20m/links.csv']"
      ]
     },
     "execution_count": 7,
     "metadata": {},
     "output_type": "execute_result"
    }
   ],
   "source": [
    "data_fld = '/jet/prs/workspace/Movie/ml20m/'\n",
    "glob.glob(data_fld+ '*')"
   ]
  },
  {
   "cell_type": "code",
   "execution_count": null,
   "metadata": {},
   "outputs": [],
   "source": []
  },
  {
   "cell_type": "code",
   "execution_count": 8,
   "metadata": {},
   "outputs": [
    {
     "name": "stdout",
     "output_type": "stream",
     "text": [
      "/jet/prs/workspace/Movie/ml20m/genome-scores.csv   (11709768, 3)\n",
      "   movieId  tagId  relevance\n",
      "0        1      1    0.02500\n",
      "1        1      2    0.02500\n",
      "2        1      3    0.05775\n",
      "3        1      4    0.09675\n",
      "4        1      5    0.14675\n",
      "/jet/prs/workspace/Movie/ml20m/movies.csv   (27278, 3)\n",
      "   movieId                               title  \\\n",
      "0        1                    Toy Story (1995)   \n",
      "1        2                      Jumanji (1995)   \n",
      "2        3             Grumpier Old Men (1995)   \n",
      "3        4            Waiting to Exhale (1995)   \n",
      "4        5  Father of the Bride Part II (1995)   \n",
      "\n",
      "                                        genres  \n",
      "0  Adventure|Animation|Children|Comedy|Fantasy  \n",
      "1                   Adventure|Children|Fantasy  \n",
      "2                               Comedy|Romance  \n",
      "3                         Comedy|Drama|Romance  \n",
      "4                                       Comedy  \n",
      "/jet/prs/workspace/Movie/ml20m/genome-tags.csv   (1128, 2)\n",
      "   tagId           tag\n",
      "0      1           007\n",
      "1      2  007 (series)\n",
      "2      3  18th century\n",
      "3      4         1920s\n",
      "4      5         1930s\n",
      "/jet/prs/workspace/Movie/ml20m/tags.csv   (465564, 4)\n",
      "   userId  movieId            tag   timestamp\n",
      "0      18     4141    Mark Waters  1240597180\n",
      "1      65      208      dark hero  1368150078\n",
      "2      65      353      dark hero  1368150079\n",
      "3      65      521  noir thriller  1368149983\n",
      "4      65      592      dark hero  1368150078\n",
      "/jet/prs/workspace/Movie/ml20m/ratings.csv   (20000263, 4)\n",
      "   userId  movieId  rating   timestamp\n",
      "0       1        2     3.5  1112486027\n",
      "1       1       29     3.5  1112484676\n",
      "2       1       32     3.5  1112484819\n",
      "3       1       47     3.5  1112484727\n",
      "4       1       50     3.5  1112484580\n",
      "/jet/prs/workspace/Movie/ml20m/movie_desc.csv   (5000, 5)\n",
      "   Unnamed: 0  movieId  imdbId   tmdbId  \\\n",
      "0           0        1  114709    862.0   \n",
      "1           1        2  113497   8844.0   \n",
      "2           2        3  113228  15602.0   \n",
      "3           3        4  114885  31357.0   \n",
      "4           4        5  113041  11862.0   \n",
      "\n",
      "                                                desc  \n",
      "0  Led by Woody, Andy's toys live happily in his ...  \n",
      "1  When siblings Judy and Peter discover an encha...  \n",
      "2  A family wedding reignites the ancient feud be...  \n",
      "3  Cheated on, mistreated and stepped on, the wom...  \n",
      "4  Just when George Banks has recovered from his ...  \n",
      "/jet/prs/workspace/Movie/ml20m/links.csv   (27278, 3)\n",
      "   movieId  imdbId   tmdbId\n",
      "0        1  114709    862.0\n",
      "1        2  113497   8844.0\n",
      "2        3  113228  15602.0\n",
      "3        4  114885  31357.0\n",
      "4        5  113041  11862.0\n"
     ]
    }
   ],
   "source": [
    "for file_path in [f for f in glob.glob(data_fld+ '*') if f.split('.')[-1]=='csv']:\n",
    "    file_read = pd.read_csv(file_path)\n",
    "    print(file_path, \" \", file_read.shape)\n",
    "    print(file_read.head())\n",
    "    "
   ]
  },
  {
   "cell_type": "code",
   "execution_count": 9,
   "metadata": {},
   "outputs": [
    {
     "name": "stdout",
     "output_type": "stream",
     "text": [
      "unique movie Ids:  10381\n"
     ]
    }
   ],
   "source": [
    "file_read = pd.read_csv('/jet/prs/workspace/Movie/ml20m/genome-scores.csv')\n",
    "print('unique movie Ids: ', len(file_read.movieId.unique()))"
   ]
  },
  {
   "cell_type": "code",
   "execution_count": null,
   "metadata": {},
   "outputs": [],
   "source": []
  },
  {
   "cell_type": "code",
   "execution_count": 10,
   "metadata": {},
   "outputs": [
    {
     "name": "stdout",
     "output_type": "stream",
     "text": [
      "unique movie Ids:  27278\n"
     ]
    },
    {
     "data": {
      "text/plain": [
       "(None, Index(['movieId', 'title', 'genres'], dtype='object'))"
      ]
     },
     "execution_count": 10,
     "metadata": {},
     "output_type": "execute_result"
    }
   ],
   "source": [
    "movies_orig = pd.read_csv('/jet/prs/workspace/Movie/ml20m/movies.csv')\n",
    "print('unique movie Ids: ', len(movies_orig.movieId.unique())), movies_orig.columns"
   ]
  },
  {
   "cell_type": "code",
   "execution_count": 11,
   "metadata": {},
   "outputs": [
    {
     "name": "stdout",
     "output_type": "stream",
     "text": [
      "number of Ids: 27278  |  number of titles: 27262\n"
     ]
    }
   ],
   "source": [
    "print('number of Ids:', len(movies_orig.movieId.unique()), \" | \",\"number of titles:\" ,len(movies_orig.title.unique()))"
   ]
  },
  {
   "cell_type": "code",
   "execution_count": 12,
   "metadata": {},
   "outputs": [
    {
     "name": "stdout",
     "output_type": "stream",
     "text": [
      "duplicated movies:\n"
     ]
    },
    {
     "data": {
      "text/html": [
       "<div>\n",
       "<style scoped>\n",
       "    .dataframe tbody tr th:only-of-type {\n",
       "        vertical-align: middle;\n",
       "    }\n",
       "\n",
       "    .dataframe tbody tr th {\n",
       "        vertical-align: top;\n",
       "    }\n",
       "\n",
       "    .dataframe thead th {\n",
       "        text-align: right;\n",
       "    }\n",
       "</style>\n",
       "<table border=\"1\" class=\"dataframe\">\n",
       "  <thead>\n",
       "    <tr style=\"text-align: right;\">\n",
       "      <th></th>\n",
       "      <th>movieId</th>\n",
       "      <th>title</th>\n",
       "      <th>genres</th>\n",
       "    </tr>\n",
       "  </thead>\n",
       "  <tbody>\n",
       "    <tr>\n",
       "      <th>20923</th>\n",
       "      <td>102190</td>\n",
       "      <td>20,000 Leagues Under the Sea (1997)</td>\n",
       "      <td>Adventure|Romance|Sci-Fi</td>\n",
       "    </tr>\n",
       "    <tr>\n",
       "      <th>24064</th>\n",
       "      <td>114130</td>\n",
       "      <td>20,000 Leagues Under the Sea (1997)</td>\n",
       "      <td>Romance|Sci-Fi</td>\n",
       "    </tr>\n",
       "    <tr>\n",
       "      <th>582</th>\n",
       "      <td>588</td>\n",
       "      <td>Aladdin (1992)</td>\n",
       "      <td>Adventure|Animation|Children|Comedy|Musical</td>\n",
       "    </tr>\n",
       "    <tr>\n",
       "      <th>24092</th>\n",
       "      <td>114240</td>\n",
       "      <td>Aladdin (1992)</td>\n",
       "      <td>Adventure|Animation|Children|Comedy|Fantasy</td>\n",
       "    </tr>\n",
       "    <tr>\n",
       "      <th>21429</th>\n",
       "      <td>104035</td>\n",
       "      <td>Beneath (2013)</td>\n",
       "      <td>Horror</td>\n",
       "    </tr>\n",
       "    <tr>\n",
       "      <th>24437</th>\n",
       "      <td>115777</td>\n",
       "      <td>Beneath (2013)</td>\n",
       "      <td>Horror</td>\n",
       "    </tr>\n",
       "    <tr>\n",
       "      <th>13417</th>\n",
       "      <td>66140</td>\n",
       "      <td>Blackout (2007)</td>\n",
       "      <td>Horror|Thriller</td>\n",
       "    </tr>\n",
       "    <tr>\n",
       "      <th>16827</th>\n",
       "      <td>85070</td>\n",
       "      <td>Blackout (2007)</td>\n",
       "      <td>Drama</td>\n",
       "    </tr>\n",
       "    <tr>\n",
       "      <th>10694</th>\n",
       "      <td>42015</td>\n",
       "      <td>Casanova (2005)</td>\n",
       "      <td>Action|Adventure|Comedy|Drama|Romance</td>\n",
       "    </tr>\n",
       "    <tr>\n",
       "      <th>26808</th>\n",
       "      <td>128862</td>\n",
       "      <td>Casanova (2005)</td>\n",
       "      <td>Comedy|Drama|Romance</td>\n",
       "    </tr>\n",
       "    <tr>\n",
       "      <th>11205</th>\n",
       "      <td>47254</td>\n",
       "      <td>Chaos (2005)</td>\n",
       "      <td>Action|Crime|Drama|Thriller</td>\n",
       "    </tr>\n",
       "    <tr>\n",
       "      <th>13572</th>\n",
       "      <td>67459</td>\n",
       "      <td>Chaos (2005)</td>\n",
       "      <td>Crime|Drama|Horror</td>\n",
       "    </tr>\n",
       "    <tr>\n",
       "      <th>21465</th>\n",
       "      <td>104155</td>\n",
       "      <td>Clear History (2013)</td>\n",
       "      <td>Comedy</td>\n",
       "    </tr>\n",
       "    <tr>\n",
       "      <th>25886</th>\n",
       "      <td>122940</td>\n",
       "      <td>Clear History (2013)</td>\n",
       "      <td>Comedy</td>\n",
       "    </tr>\n",
       "    <tr>\n",
       "      <th>18731</th>\n",
       "      <td>93279</td>\n",
       "      <td>Darling (2007)</td>\n",
       "      <td>Drama</td>\n",
       "    </tr>\n",
       "    <tr>\n",
       "      <th>27064</th>\n",
       "      <td>130062</td>\n",
       "      <td>Darling (2007)</td>\n",
       "      <td>Drama</td>\n",
       "    </tr>\n",
       "    <tr>\n",
       "      <th>823</th>\n",
       "      <td>838</td>\n",
       "      <td>Emma (1996)</td>\n",
       "      <td>Comedy|Drama|Romance</td>\n",
       "    </tr>\n",
       "    <tr>\n",
       "      <th>9135</th>\n",
       "      <td>26958</td>\n",
       "      <td>Emma (1996)</td>\n",
       "      <td>Romance</td>\n",
       "    </tr>\n",
       "    <tr>\n",
       "      <th>19763</th>\n",
       "      <td>97773</td>\n",
       "      <td>Girl, The (2012)</td>\n",
       "      <td>Drama</td>\n",
       "    </tr>\n",
       "    <tr>\n",
       "      <th>20653</th>\n",
       "      <td>101212</td>\n",
       "      <td>Girl, The (2012)</td>\n",
       "      <td>Drama</td>\n",
       "    </tr>\n",
       "    <tr>\n",
       "      <th>3507</th>\n",
       "      <td>3598</td>\n",
       "      <td>Hamlet (2000)</td>\n",
       "      <td>Crime|Drama|Romance|Thriller</td>\n",
       "    </tr>\n",
       "    <tr>\n",
       "      <th>13354</th>\n",
       "      <td>65665</td>\n",
       "      <td>Hamlet (2000)</td>\n",
       "      <td>Drama</td>\n",
       "    </tr>\n",
       "    <tr>\n",
       "      <th>23420</th>\n",
       "      <td>111519</td>\n",
       "      <td>Johnny Express (2014)</td>\n",
       "      <td>Animation|Comedy|Sci-Fi</td>\n",
       "    </tr>\n",
       "    <tr>\n",
       "      <th>26850</th>\n",
       "      <td>128991</td>\n",
       "      <td>Johnny Express (2014)</td>\n",
       "      <td>Animation|Comedy|Sci-Fi</td>\n",
       "    </tr>\n",
       "    <tr>\n",
       "      <th>1716</th>\n",
       "      <td>1788</td>\n",
       "      <td>Men with Guns (1997)</td>\n",
       "      <td>Action|Drama</td>\n",
       "    </tr>\n",
       "    <tr>\n",
       "      <th>9150</th>\n",
       "      <td>26982</td>\n",
       "      <td>Men with Guns (1997)</td>\n",
       "      <td>Drama</td>\n",
       "    </tr>\n",
       "    <tr>\n",
       "      <th>11388</th>\n",
       "      <td>48682</td>\n",
       "      <td>Offside (2006)</td>\n",
       "      <td>Comedy|Drama</td>\n",
       "    </tr>\n",
       "    <tr>\n",
       "      <th>15826</th>\n",
       "      <td>80330</td>\n",
       "      <td>Offside (2006)</td>\n",
       "      <td>Comedy|Drama</td>\n",
       "    </tr>\n",
       "    <tr>\n",
       "      <th>23888</th>\n",
       "      <td>113459</td>\n",
       "      <td>Paradise (2013)</td>\n",
       "      <td>Comedy|Drama</td>\n",
       "    </tr>\n",
       "    <tr>\n",
       "      <th>25711</th>\n",
       "      <td>121586</td>\n",
       "      <td>Paradise (2013)</td>\n",
       "      <td>Romance</td>\n",
       "    </tr>\n",
       "    <tr>\n",
       "      <th>10224</th>\n",
       "      <td>34048</td>\n",
       "      <td>War of the Worlds (2005)</td>\n",
       "      <td>Action|Adventure|Sci-Fi|Thriller</td>\n",
       "    </tr>\n",
       "    <tr>\n",
       "      <th>13269</th>\n",
       "      <td>64997</td>\n",
       "      <td>War of the Worlds (2005)</td>\n",
       "      <td>Action|Sci-Fi</td>\n",
       "    </tr>\n",
       "  </tbody>\n",
       "</table>\n",
       "</div>"
      ],
      "text/plain": [
       "       movieId                                title  \\\n",
       "20923   102190  20,000 Leagues Under the Sea (1997)   \n",
       "24064   114130  20,000 Leagues Under the Sea (1997)   \n",
       "582        588                       Aladdin (1992)   \n",
       "24092   114240                       Aladdin (1992)   \n",
       "21429   104035                       Beneath (2013)   \n",
       "24437   115777                       Beneath (2013)   \n",
       "13417    66140                      Blackout (2007)   \n",
       "16827    85070                      Blackout (2007)   \n",
       "10694    42015                      Casanova (2005)   \n",
       "26808   128862                      Casanova (2005)   \n",
       "11205    47254                         Chaos (2005)   \n",
       "13572    67459                         Chaos (2005)   \n",
       "21465   104155                 Clear History (2013)   \n",
       "25886   122940                 Clear History (2013)   \n",
       "18731    93279                       Darling (2007)   \n",
       "27064   130062                       Darling (2007)   \n",
       "823        838                          Emma (1996)   \n",
       "9135     26958                          Emma (1996)   \n",
       "19763    97773                     Girl, The (2012)   \n",
       "20653   101212                     Girl, The (2012)   \n",
       "3507      3598                        Hamlet (2000)   \n",
       "13354    65665                        Hamlet (2000)   \n",
       "23420   111519                Johnny Express (2014)   \n",
       "26850   128991                Johnny Express (2014)   \n",
       "1716      1788                 Men with Guns (1997)   \n",
       "9150     26982                 Men with Guns (1997)   \n",
       "11388    48682                       Offside (2006)   \n",
       "15826    80330                       Offside (2006)   \n",
       "23888   113459                      Paradise (2013)   \n",
       "25711   121586                      Paradise (2013)   \n",
       "10224    34048             War of the Worlds (2005)   \n",
       "13269    64997             War of the Worlds (2005)   \n",
       "\n",
       "                                            genres  \n",
       "20923                     Adventure|Romance|Sci-Fi  \n",
       "24064                               Romance|Sci-Fi  \n",
       "582    Adventure|Animation|Children|Comedy|Musical  \n",
       "24092  Adventure|Animation|Children|Comedy|Fantasy  \n",
       "21429                                       Horror  \n",
       "24437                                       Horror  \n",
       "13417                              Horror|Thriller  \n",
       "16827                                        Drama  \n",
       "10694        Action|Adventure|Comedy|Drama|Romance  \n",
       "26808                         Comedy|Drama|Romance  \n",
       "11205                  Action|Crime|Drama|Thriller  \n",
       "13572                           Crime|Drama|Horror  \n",
       "21465                                       Comedy  \n",
       "25886                                       Comedy  \n",
       "18731                                        Drama  \n",
       "27064                                        Drama  \n",
       "823                           Comedy|Drama|Romance  \n",
       "9135                                       Romance  \n",
       "19763                                        Drama  \n",
       "20653                                        Drama  \n",
       "3507                  Crime|Drama|Romance|Thriller  \n",
       "13354                                        Drama  \n",
       "23420                      Animation|Comedy|Sci-Fi  \n",
       "26850                      Animation|Comedy|Sci-Fi  \n",
       "1716                                  Action|Drama  \n",
       "9150                                         Drama  \n",
       "11388                                 Comedy|Drama  \n",
       "15826                                 Comedy|Drama  \n",
       "23888                                 Comedy|Drama  \n",
       "25711                                      Romance  \n",
       "10224             Action|Adventure|Sci-Fi|Thriller  \n",
       "13269                                Action|Sci-Fi  "
      ]
     },
     "execution_count": 12,
     "metadata": {},
     "output_type": "execute_result"
    }
   ],
   "source": [
    "print('duplicated movies:')\n",
    "pd.concat(g for _, g in movies_orig.groupby(\"title\") if len(g) > 1)"
   ]
  },
  {
   "cell_type": "markdown",
   "metadata": {},
   "source": [
    "It look like some entries have been updated by adding a new records: the last record seems to be the correct one"
   ]
  },
  {
   "cell_type": "code",
   "execution_count": 13,
   "metadata": {},
   "outputs": [
    {
     "data": {
      "text/plain": [
       "(27262, 3)"
      ]
     },
     "execution_count": 13,
     "metadata": {},
     "output_type": "execute_result"
    }
   ],
   "source": [
    "# remove the duplicates and keep last record\n",
    "movies_orig = movies_orig.drop_duplicates(subset=['title'], keep='last')\n",
    "movies_orig.shape"
   ]
  },
  {
   "cell_type": "code",
   "execution_count": 14,
   "metadata": {},
   "outputs": [
    {
     "data": {
      "text/plain": [
       "array(['Adventure Animation Children Comedy Fantasy',\n",
       "       'Adventure Children Fantasy', 'Comedy Romance', ...,\n",
       "       'Action Adventure Animation Fantasy Horror',\n",
       "       'Animation Children Comedy Fantasy SciFi',\n",
       "       'Animation Children Comedy Western'], dtype=object)"
      ]
     },
     "execution_count": 14,
     "metadata": {},
     "output_type": "execute_result"
    }
   ],
   "source": [
    "# cleaning the genres for the purpose of later vectorization\n",
    "movies_orig.genres = movies_orig.genres.apply(lambda x: str(x).replace(\"-\",\"\").replace(\" \",\"\").replace(\"|\",\" \"))\n",
    "movies_orig.genres.unique()"
   ]
  },
  {
   "cell_type": "code",
   "execution_count": 15,
   "metadata": {},
   "outputs": [
    {
     "data": {
      "text/plain": [
       "1342"
      ]
     },
     "execution_count": 15,
     "metadata": {},
     "output_type": "execute_result"
    }
   ],
   "source": [
    "len(movies_orig.genres.unique())"
   ]
  },
  {
   "cell_type": "code",
   "execution_count": 16,
   "metadata": {},
   "outputs": [],
   "source": [
    "genres_cat = [\n",
    "'Action',\n",
    "'Adventure',\n",
    "'Animation',\n",
    "'Children',\n",
    "'Comedy',\n",
    "'Crime',\n",
    "'Documentary',\n",
    "'Drama',\n",
    "'Fantasy',\n",
    "'FilmNoir',\n",
    "'Horror',\n",
    "'Musical',\n",
    "'Mystery',\n",
    "'Romance',\n",
    "'SciFi',\n",
    "'Thriller',\n",
    "'War',\n",
    "'Western',\n",
    "]\n",
    "\n",
    "genres_cat_cnt = [0] * (len(genres_cat)+1)\n",
    "\n",
    "for movie_g in  movies_orig.genres.tolist():\n",
    "    for e,gcat in enumerate(genres_cat):\n",
    "        if gcat in movie_g:\n",
    "#             print(gcat, e)\n",
    "            genres_cat_cnt[e] +=1"
   ]
  },
  {
   "cell_type": "code",
   "execution_count": 17,
   "metadata": {},
   "outputs": [],
   "source": [
    "# genres_cat_cnt"
   ]
  },
  {
   "cell_type": "code",
   "execution_count": 18,
   "metadata": {},
   "outputs": [
    {
     "data": {
      "text/plain": [
       "<matplotlib.axes._subplots.AxesSubplot at 0x7fd4c0351080>"
      ]
     },
     "execution_count": 18,
     "metadata": {},
     "output_type": "execute_result"
    },
    {
     "data": {
      "image/png": "[encoded data removed]",
      "text/plain": [
       "<Figure size 432x288 with 1 Axes>"
      ]
     },
     "metadata": {},
     "output_type": "display_data"
    }
   ],
   "source": [
    "genres_pd = pd.DataFrame({'genres':genres_cat+['none'], 'counts':genres_cat_cnt})\n",
    "genres_pd.set_index('genres').plot(kind = 'bar')"
   ]
  },
  {
   "cell_type": "markdown",
   "metadata": {},
   "source": [
    "The genre column contains multiple labels which seem to characterize the movies. The predominant\n",
    "category is “Drama” which characterizes approximately 50% of the movies names, followed by the\n",
    "“Comedy” category that characterizes approximately 25% of the movies."
   ]
  },
  {
   "cell_type": "code",
   "execution_count": 19,
   "metadata": {},
   "outputs": [],
   "source": [
    "def function(x):\n",
    "    try: \n",
    "        y = int(str(x).replace(')','').replace('(','').replace('-',''))\n",
    "        return y\n",
    "    except:\n",
    "        return 0\n",
    "\n",
    "movies_orig['year'] = movies_orig.title.str[-6:].apply(lambda x: function(x))\n"
   ]
  },
  {
   "cell_type": "code",
   "execution_count": 20,
   "metadata": {},
   "outputs": [],
   "source": [
    "year_cat = list(movies_orig['year'].unique())\n",
    "year_cnt = [0] * (len(year_cat)+1)\n",
    "\n",
    "for movie_y in  movies_orig.year.tolist():\n",
    "    for e,ycat in enumerate(year_cat):\n",
    "        if ycat== movie_y:\n",
    "#             print(ycat, e)\n",
    "            year_cnt[e] +=1"
   ]
  },
  {
   "cell_type": "code",
   "execution_count": 21,
   "metadata": {
    "scrolled": false
   },
   "outputs": [
    {
     "data": {
      "text/plain": [
       "<matplotlib.axes._subplots.AxesSubplot at 0x7fd4c00cb518>"
      ]
     },
     "execution_count": 21,
     "metadata": {},
     "output_type": "execute_result"
    },
    {
     "data": {
      "image/png": "[encoded data removed]",
      "text/plain": [
       "<Figure size 1080x360 with 1 Axes>"
      ]
     },
     "metadata": {},
     "output_type": "display_data"
    }
   ],
   "source": [
    "years_pd = pd.DataFrame({'years':year_cat+['none'], 'counts':year_cnt}).replace('none',0)\n",
    "years_pd['years'] = years_pd['years'].astype(int)\n",
    "years_pd = years_pd.sort_values(by='years')\n",
    "\n",
    "years_pd.set_index('years').plot(kind = 'bar',figsize=(15,5))"
   ]
  },
  {
   "cell_type": "markdown",
   "metadata": {},
   "source": [
    "Once the years have been extracted from the title vector, we can see that a large majority of the movies\n",
    "are from the 90s and the 2000’s with a peak in 2009 and some missing values. Since the data counts\n",
    "drops significantly after 2013 and data stops in 2015, our “relatedness” may be affected by the “side\n",
    "effect” if we were using the year as a feature."
   ]
  },
  {
   "cell_type": "code",
   "execution_count": null,
   "metadata": {},
   "outputs": [],
   "source": []
  },
  {
   "cell_type": "code",
   "execution_count": null,
   "metadata": {},
   "outputs": [],
   "source": []
  },
  {
   "cell_type": "code",
   "execution_count": 22,
   "metadata": {},
   "outputs": [
    {
     "data": {
      "text/plain": [
       "(26744, Index(['userId', 'movieId', 'rating', 'timestamp'], dtype='object'))"
      ]
     },
     "execution_count": 22,
     "metadata": {},
     "output_type": "execute_result"
    }
   ],
   "source": [
    "# load ratings file\n",
    "ratings_orig = pd.read_csv('/jet/prs/workspace/Movie/ml20m/ratings.csv')\n",
    "len(ratings_orig.movieId.unique()), ratings_orig.columns"
   ]
  },
  {
   "cell_type": "code",
   "execution_count": 23,
   "metadata": {},
   "outputs": [
    {
     "name": "stdout",
     "output_type": "stream",
     "text": [
      "Grouping by ['movieId'], and aggregating rating with mean\n",
      "Grouping by ['movieId'], and aggregating rating with count\n",
      "Grouping by ['movieId'], and aggregating userId with nunique\n"
     ]
    },
    {
     "data": {
      "text/html": [
       "<div>\n",
       "<style scoped>\n",
       "    .dataframe tbody tr th:only-of-type {\n",
       "        vertical-align: middle;\n",
       "    }\n",
       "\n",
       "    .dataframe tbody tr th {\n",
       "        vertical-align: top;\n",
       "    }\n",
       "\n",
       "    .dataframe thead th {\n",
       "        text-align: right;\n",
       "    }\n",
       "</style>\n",
       "<table border=\"1\" class=\"dataframe\">\n",
       "  <thead>\n",
       "    <tr style=\"text-align: right;\">\n",
       "      <th></th>\n",
       "      <th>movieId</th>\n",
       "      <th>title</th>\n",
       "      <th>genres</th>\n",
       "      <th>year</th>\n",
       "      <th>movieId_mean_rating</th>\n",
       "      <th>movieId_count_rating</th>\n",
       "      <th>movieId_nunique_userId</th>\n",
       "    </tr>\n",
       "  </thead>\n",
       "  <tbody>\n",
       "    <tr>\n",
       "      <th>0</th>\n",
       "      <td>1</td>\n",
       "      <td>Toy Story (1995)</td>\n",
       "      <td>Adventure Animation Children Comedy Fantasy</td>\n",
       "      <td>1995</td>\n",
       "      <td>3.921240</td>\n",
       "      <td>49695.0</td>\n",
       "      <td>49695.0</td>\n",
       "    </tr>\n",
       "    <tr>\n",
       "      <th>1</th>\n",
       "      <td>2</td>\n",
       "      <td>Jumanji (1995)</td>\n",
       "      <td>Adventure Children Fantasy</td>\n",
       "      <td>1995</td>\n",
       "      <td>3.211977</td>\n",
       "      <td>22243.0</td>\n",
       "      <td>22243.0</td>\n",
       "    </tr>\n",
       "    <tr>\n",
       "      <th>2</th>\n",
       "      <td>3</td>\n",
       "      <td>Grumpier Old Men (1995)</td>\n",
       "      <td>Comedy Romance</td>\n",
       "      <td>1995</td>\n",
       "      <td>3.151040</td>\n",
       "      <td>12735.0</td>\n",
       "      <td>12735.0</td>\n",
       "    </tr>\n",
       "    <tr>\n",
       "      <th>3</th>\n",
       "      <td>4</td>\n",
       "      <td>Waiting to Exhale (1995)</td>\n",
       "      <td>Comedy Drama Romance</td>\n",
       "      <td>1995</td>\n",
       "      <td>2.861393</td>\n",
       "      <td>2756.0</td>\n",
       "      <td>2756.0</td>\n",
       "    </tr>\n",
       "    <tr>\n",
       "      <th>4</th>\n",
       "      <td>5</td>\n",
       "      <td>Father of the Bride Part II (1995)</td>\n",
       "      <td>Comedy</td>\n",
       "      <td>1995</td>\n",
       "      <td>3.064592</td>\n",
       "      <td>12161.0</td>\n",
       "      <td>12161.0</td>\n",
       "    </tr>\n",
       "  </tbody>\n",
       "</table>\n",
       "</div>"
      ],
      "text/plain": [
       "   movieId                               title  \\\n",
       "0        1                    Toy Story (1995)   \n",
       "1        2                      Jumanji (1995)   \n",
       "2        3             Grumpier Old Men (1995)   \n",
       "3        4            Waiting to Exhale (1995)   \n",
       "4        5  Father of the Bride Part II (1995)   \n",
       "\n",
       "                                        genres  year  movieId_mean_rating  \\\n",
       "0  Adventure Animation Children Comedy Fantasy  1995             3.921240   \n",
       "1                   Adventure Children Fantasy  1995             3.211977   \n",
       "2                               Comedy Romance  1995             3.151040   \n",
       "3                         Comedy Drama Romance  1995             2.861393   \n",
       "4                                       Comedy  1995             3.064592   \n",
       "\n",
       "   movieId_count_rating  movieId_nunique_userId  \n",
       "0               49695.0                 49695.0  \n",
       "1               22243.0                 22243.0  \n",
       "2               12735.0                 12735.0  \n",
       "3                2756.0                  2756.0  \n",
       "4               12161.0                 12161.0  "
      ]
     },
     "execution_count": 23,
     "metadata": {},
     "output_type": "execute_result"
    }
   ],
   "source": [
    "# my kaggle code for fast groupby\n",
    "GROUPBY_AGGREGATIONS = [\n",
    "\n",
    "\n",
    "    ######################################################################\n",
    "    {'groupby': ['movieId'], 'select': 'rating', 'agg': 'mean'},\n",
    "    {'groupby': ['movieId'], 'select': 'rating', 'agg': 'count'},\n",
    "    {'groupby': ['movieId'], 'select': 'userId', 'agg': 'nunique'},\n",
    "]\n",
    "\n",
    "# Apply all the groupby transformations\n",
    "for spec in GROUPBY_AGGREGATIONS:\n",
    "\n",
    "    # Name of the aggregation we're applying\n",
    "    agg_name = spec['agg_name'] if 'agg_name' in spec else spec['agg']\n",
    "\n",
    "    # Name of new feature\n",
    "    new_feature = '{}_{}_{}'.format('_'.join(spec['groupby']), agg_name, spec['select'])\n",
    "\n",
    "    # Info\n",
    "    print(\"Grouping by {}, and aggregating {} with {}\".format(spec['groupby'], spec['select'], agg_name))\n",
    "\n",
    "    # Unique list of features to select\n",
    "    all_features = list(set(spec['groupby'] + [spec['select']]))\n",
    "\n",
    "    # Perform the groupby\n",
    "    gp = ratings_orig[all_features]. \\\n",
    "        groupby(spec['groupby'])[spec['select']]. \\\n",
    "        agg(spec['agg']). \\\n",
    "        reset_index(). \\\n",
    "        rename(index=str, columns={spec['select']: new_feature})\n",
    "\n",
    "    # Merge back to X_total\n",
    "    movies_orig = movies_orig.merge(gp, on=spec['groupby'], how='left')\n",
    "\n",
    "     # Clear memory\n",
    "    del gp\n",
    "    gc.collect()\n",
    "\n",
    "movies_orig.head()"
   ]
  },
  {
   "cell_type": "code",
   "execution_count": 24,
   "metadata": {},
   "outputs": [
    {
     "name": "stdout",
     "output_type": "stream",
     "text": [
      "<class 'pandas.core.frame.DataFrame'>\n",
      "Int64Index: 27262 entries, 0 to 27261\n",
      "Data columns (total 7 columns):\n",
      "movieId                   27262 non-null int64\n",
      "title                     27262 non-null object\n",
      "genres                    27262 non-null object\n",
      "year                      27262 non-null int64\n",
      "movieId_mean_rating       26729 non-null float64\n",
      "movieId_count_rating      26729 non-null float64\n",
      "movieId_nunique_userId    26729 non-null float64\n",
      "dtypes: float64(3), int64(2), object(2)\n",
      "memory usage: 1.7+ MB\n"
     ]
    }
   ],
   "source": [
    "movies_orig.info()"
   ]
  },
  {
   "cell_type": "code",
   "execution_count": 25,
   "metadata": {},
   "outputs": [
    {
     "data": {
      "text/plain": [
       "(18.0, 746.05039470238319, 3075.8908289860851)"
      ]
     },
     "execution_count": 25,
     "metadata": {},
     "output_type": "execute_result"
    }
   ],
   "source": [
    "# base stats on user count\n",
    "movies_orig.movieId_count_rating.median(), movies_orig.movieId_count_rating.mean(), movies_orig.movieId_count_rating.std()"
   ]
  },
  {
   "cell_type": "code",
   "execution_count": 26,
   "metadata": {},
   "outputs": [
    {
     "data": {
      "text/plain": [
       "array([[<matplotlib.axes._subplots.AxesSubplot object at 0x7fd4c008ac18>]], dtype=object)"
      ]
     },
     "execution_count": 26,
     "metadata": {},
     "output_type": "execute_result"
    },
    {
     "data": {
      "image/png": "[encoded data removed]",
      "text/plain": [
       "<Figure size 432x288 with 1 Axes>"
      ]
     },
     "metadata": {},
     "output_type": "display_data"
    }
   ],
   "source": [
    "movies_orig.hist(column='movieId_count_rating',bins=100)"
   ]
  },
  {
   "cell_type": "code",
   "execution_count": 27,
   "metadata": {},
   "outputs": [
    {
     "data": {
      "text/plain": [
       "array([[<matplotlib.axes._subplots.AxesSubplot object at 0x7fd4bfe1f198>]], dtype=object)"
      ]
     },
     "execution_count": 27,
     "metadata": {},
     "output_type": "execute_result"
    },
    {
     "data": {
      "image/png": "[encoded data removed]",
      "text/plain": [
       "<Figure size 432x288 with 1 Axes>"
      ]
     },
     "metadata": {},
     "output_type": "display_data"
    }
   ],
   "source": [
    "movies_orig['time_since_issuance']=movies_orig['year'].apply(lambda x: x if x >= 1995 else 1995) #to take account movies issued before 1995\n",
    "movies_orig['views_per_year']=movies_orig['movieId_count_rating']/(2016-movies_orig['time_since_issuance'])\n",
    "movies_orig['views_per_year'] = movies_orig['views_per_year'].apply(lambda x: x if pd.isnull(x) else int(x))\n",
    "movies_orig.hist(column='views_per_year',bins=100)"
   ]
  },
  {
   "cell_type": "code",
   "execution_count": 28,
   "metadata": {},
   "outputs": [
    {
     "data": {
      "text/plain": [
       "array([[<matplotlib.axes._subplots.AxesSubplot object at 0x7fd4bfdec710>]], dtype=object)"
      ]
     },
     "execution_count": 28,
     "metadata": {},
     "output_type": "execute_result"
    },
    {
     "data": {
      "image/png": "[encoded data removed]",
      "text/plain": [
       "<Figure size 432x288 with 1 Axes>"
      ]
     },
     "metadata": {},
     "output_type": "display_data"
    }
   ],
   "source": [
    "# try log1p to have a better understanding of the distribution\n",
    "movies_orig['views_per_year_log1p']=movies_orig['views_per_year'].apply(lambda x: np.log1p(x))\n",
    "movies_orig.hist(column='views_per_year_log1p',bins=50)"
   ]
  },
  {
   "cell_type": "markdown",
   "metadata": {},
   "source": [
    "Since the movies were rated between 1995 and 2015, we will average the ratings count over the year in\n",
    "order to rescale the figure on the same basis and since the scale of the count is still large, we will take\n",
    "the log(x+1) in order to make the range more manageable.\n",
    "\n"
   ]
  },
  {
   "cell_type": "code",
   "execution_count": 29,
   "metadata": {},
   "outputs": [
    {
     "data": {
      "text/plain": [
       "(0.0, 8.0727793331694979)"
      ]
     },
     "execution_count": 29,
     "metadata": {},
     "output_type": "execute_result"
    }
   ],
   "source": [
    "movies_orig['views_per_year_log1p'].min(), movies_orig['views_per_year_log1p'].max()"
   ]
  },
  {
   "cell_type": "code",
   "execution_count": 30,
   "metadata": {},
   "outputs": [
    {
     "data": {
      "text/plain": [
       "(3.2352941176470589, 3.13320127627542, 0.66410091044600039)"
      ]
     },
     "execution_count": 30,
     "metadata": {},
     "output_type": "execute_result"
    }
   ],
   "source": [
    "# base stats on user count\n",
    "movies_orig.movieId_mean_rating.median(), movies_orig.movieId_mean_rating.mean(), movies_orig.movieId_mean_rating.std()"
   ]
  },
  {
   "cell_type": "code",
   "execution_count": 31,
   "metadata": {},
   "outputs": [
    {
     "data": {
      "text/plain": [
       "array([[<matplotlib.axes._subplots.AxesSubplot object at 0x7fd4bfb71fd0>]], dtype=object)"
      ]
     },
     "execution_count": 31,
     "metadata": {},
     "output_type": "execute_result"
    },
    {
     "data": {
      "image/png": "[encoded data removed]",
      "text/plain": [
       "<Figure size 432x288 with 1 Axes>"
      ]
     },
     "metadata": {},
     "output_type": "display_data"
    }
   ],
   "source": [
    "movies_orig.hist(column='movieId_mean_rating')"
   ]
  },
  {
   "cell_type": "markdown",
   "metadata": {},
   "source": [
    "The ratings have a Gaussian distribution centered on the rating of 3. Given a std of 0.66, 95% of the\n",
    "ratings are comprised between 2 and 4.5."
   ]
  },
  {
   "cell_type": "code",
   "execution_count": 32,
   "metadata": {},
   "outputs": [
    {
     "data": {
      "text/plain": [
       "(15068, 10)"
      ]
     },
     "execution_count": 32,
     "metadata": {},
     "output_type": "execute_result"
    }
   ],
   "source": [
    "movies_orig[movies_orig.movieId_count_rating>10].shape"
   ]
  },
  {
   "cell_type": "code",
   "execution_count": 33,
   "metadata": {},
   "outputs": [],
   "source": [
    "# movies_orig[movies_orig.movieId_count_rating!=movies_orig.movieId_nunique_userId]"
   ]
  },
  {
   "cell_type": "code",
   "execution_count": null,
   "metadata": {},
   "outputs": [],
   "source": []
  },
  {
   "cell_type": "code",
   "execution_count": 34,
   "metadata": {},
   "outputs": [
    {
     "data": {
      "text/html": [
       "<div>\n",
       "<style scoped>\n",
       "    .dataframe tbody tr th:only-of-type {\n",
       "        vertical-align: middle;\n",
       "    }\n",
       "\n",
       "    .dataframe tbody tr th {\n",
       "        vertical-align: top;\n",
       "    }\n",
       "\n",
       "    .dataframe thead th {\n",
       "        text-align: right;\n",
       "    }\n",
       "</style>\n",
       "<table border=\"1\" class=\"dataframe\">\n",
       "  <thead>\n",
       "    <tr style=\"text-align: right;\">\n",
       "      <th></th>\n",
       "      <th>movieId</th>\n",
       "      <th>title</th>\n",
       "      <th>genres</th>\n",
       "      <th>year</th>\n",
       "      <th>movieId_mean_rating</th>\n",
       "      <th>movieId_count_rating</th>\n",
       "      <th>movieId_nunique_userId</th>\n",
       "      <th>time_since_issuance</th>\n",
       "      <th>views_per_year</th>\n",
       "      <th>views_per_year_log1p</th>\n",
       "    </tr>\n",
       "  </thead>\n",
       "  <tbody>\n",
       "    <tr>\n",
       "      <th>7409</th>\n",
       "      <td>7649</td>\n",
       "      <td>Babylon 5: In the Beginning (1998)</td>\n",
       "      <td>Adventure SciFi</td>\n",
       "      <td>1998</td>\n",
       "      <td>3.675935</td>\n",
       "      <td>1043.0</td>\n",
       "      <td>1043.0</td>\n",
       "      <td>1998</td>\n",
       "      <td>57.0</td>\n",
       "      <td>4.060443</td>\n",
       "    </tr>\n",
       "    <tr>\n",
       "      <th>7484</th>\n",
       "      <td>7810</td>\n",
       "      <td>Babylon 5: A Call to Arms (1999)</td>\n",
       "      <td>Adventure SciFi</td>\n",
       "      <td>1999</td>\n",
       "      <td>3.551601</td>\n",
       "      <td>562.0</td>\n",
       "      <td>562.0</td>\n",
       "      <td>1999</td>\n",
       "      <td>33.0</td>\n",
       "      <td>3.526361</td>\n",
       "    </tr>\n",
       "    <tr>\n",
       "      <th>7485</th>\n",
       "      <td>7811</td>\n",
       "      <td>Babylon 5: The River of Souls (1998)</td>\n",
       "      <td>Drama SciFi</td>\n",
       "      <td>1998</td>\n",
       "      <td>3.273810</td>\n",
       "      <td>420.0</td>\n",
       "      <td>420.0</td>\n",
       "      <td>1998</td>\n",
       "      <td>23.0</td>\n",
       "      <td>3.178054</td>\n",
       "    </tr>\n",
       "    <tr>\n",
       "      <th>7486</th>\n",
       "      <td>7812</td>\n",
       "      <td>Babylon 5: Thirdspace (1998)</td>\n",
       "      <td>Drama SciFi</td>\n",
       "      <td>1998</td>\n",
       "      <td>3.364773</td>\n",
       "      <td>440.0</td>\n",
       "      <td>440.0</td>\n",
       "      <td>1998</td>\n",
       "      <td>24.0</td>\n",
       "      <td>3.218876</td>\n",
       "    </tr>\n",
       "    <tr>\n",
       "      <th>10588</th>\n",
       "      <td>40697</td>\n",
       "      <td>Babylon 5</td>\n",
       "      <td>SciFi</td>\n",
       "      <td>0</td>\n",
       "      <td>3.866071</td>\n",
       "      <td>56.0</td>\n",
       "      <td>56.0</td>\n",
       "      <td>1995</td>\n",
       "      <td>2.0</td>\n",
       "      <td>1.098612</td>\n",
       "    </tr>\n",
       "    <tr>\n",
       "      <th>11687</th>\n",
       "      <td>51562</td>\n",
       "      <td>Babylon 5: The Gathering (1993)</td>\n",
       "      <td>SciFi</td>\n",
       "      <td>1993</td>\n",
       "      <td>3.487500</td>\n",
       "      <td>160.0</td>\n",
       "      <td>160.0</td>\n",
       "      <td>1995</td>\n",
       "      <td>7.0</td>\n",
       "      <td>2.079442</td>\n",
       "    </tr>\n",
       "    <tr>\n",
       "      <th>13073</th>\n",
       "      <td>62834</td>\n",
       "      <td>Babylon 5: The Legend of the Rangers: To Live ...</td>\n",
       "      <td>SciFi</td>\n",
       "      <td>2002</td>\n",
       "      <td>2.952991</td>\n",
       "      <td>117.0</td>\n",
       "      <td>117.0</td>\n",
       "      <td>2002</td>\n",
       "      <td>8.0</td>\n",
       "      <td>2.197225</td>\n",
       "    </tr>\n",
       "    <tr>\n",
       "      <th>13074</th>\n",
       "      <td>62836</td>\n",
       "      <td>Babylon 5: The Lost Tales - Voices in the Dark...</td>\n",
       "      <td>SciFi</td>\n",
       "      <td>2007</td>\n",
       "      <td>3.218447</td>\n",
       "      <td>103.0</td>\n",
       "      <td>103.0</td>\n",
       "      <td>2007</td>\n",
       "      <td>11.0</td>\n",
       "      <td>2.484907</td>\n",
       "    </tr>\n",
       "  </tbody>\n",
       "</table>\n",
       "</div>"
      ],
      "text/plain": [
       "       movieId                                              title  \\\n",
       "7409      7649                 Babylon 5: In the Beginning (1998)   \n",
       "7484      7810                   Babylon 5: A Call to Arms (1999)   \n",
       "7485      7811               Babylon 5: The River of Souls (1998)   \n",
       "7486      7812                       Babylon 5: Thirdspace (1998)   \n",
       "10588    40697                                          Babylon 5   \n",
       "11687    51562                    Babylon 5: The Gathering (1993)   \n",
       "13073    62834  Babylon 5: The Legend of the Rangers: To Live ...   \n",
       "13074    62836  Babylon 5: The Lost Tales - Voices in the Dark...   \n",
       "\n",
       "                genres  year  movieId_mean_rating  movieId_count_rating  \\\n",
       "7409   Adventure SciFi  1998             3.675935                1043.0   \n",
       "7484   Adventure SciFi  1999             3.551601                 562.0   \n",
       "7485       Drama SciFi  1998             3.273810                 420.0   \n",
       "7486       Drama SciFi  1998             3.364773                 440.0   \n",
       "10588            SciFi     0             3.866071                  56.0   \n",
       "11687            SciFi  1993             3.487500                 160.0   \n",
       "13073            SciFi  2002             2.952991                 117.0   \n",
       "13074            SciFi  2007             3.218447                 103.0   \n",
       "\n",
       "       movieId_nunique_userId  time_since_issuance  views_per_year  \\\n",
       "7409                   1043.0                 1998            57.0   \n",
       "7484                    562.0                 1999            33.0   \n",
       "7485                    420.0                 1998            23.0   \n",
       "7486                    440.0                 1998            24.0   \n",
       "10588                    56.0                 1995             2.0   \n",
       "11687                   160.0                 1995             7.0   \n",
       "13073                   117.0                 2002             8.0   \n",
       "13074                   103.0                 2007            11.0   \n",
       "\n",
       "       views_per_year_log1p  \n",
       "7409               4.060443  \n",
       "7484               3.526361  \n",
       "7485               3.178054  \n",
       "7486               3.218876  \n",
       "10588              1.098612  \n",
       "11687              2.079442  \n",
       "13073              2.197225  \n",
       "13074              2.484907  "
      ]
     },
     "execution_count": 34,
     "metadata": {},
     "output_type": "execute_result"
    }
   ],
   "source": [
    "### Note: the dataset needs some clean up\n",
    "movies_orig[movies_orig.title.str.contains('ylon 5')]\n",
    "### >> this is a TV show..."
   ]
  },
  {
   "cell_type": "code",
   "execution_count": null,
   "metadata": {},
   "outputs": [],
   "source": []
  },
  {
   "cell_type": "code",
   "execution_count": null,
   "metadata": {},
   "outputs": [],
   "source": []
  },
  {
   "cell_type": "code",
   "execution_count": null,
   "metadata": {},
   "outputs": [],
   "source": []
  },
  {
   "cell_type": "markdown",
   "metadata": {},
   "source": [
    "# 1. Simple relatedness method based on description and genre"
   ]
  },
  {
   "cell_type": "markdown",
   "metadata": {},
   "source": [
    "A simple idea in order to answer the challenge is to use the description and the genres vectors and find\n",
    "similarities in the text of the description and in the genres categories in order to rank the relation\n",
    "between movies. This method is closer to an unsupervised method (or clustering method) and is called\n",
    "content based filtering method in the field of the recommendation engines.\n",
    "\n",
    "For purpose of simplicity, in this prototype, the description and genres vectors are merged together.\n",
    "In order to find the similarities in the movies’ description and genres vectors containing some text, we\n",
    "used the TFIDF implementation in scikit-learn. The method counts the different words in the text\n",
    "attributes of each observation and substitutes the text vector with a word count vector. The method\n",
    "advantage is that these matrices are sparse (lot of 0s), are scalable but it only concentrated on word\n",
    "frequency, and it ignore the meaning between words or word declination (conjugations). A cosine\n",
    "similarity matrix is then calculated based on this tfidf matrix and calculates a number between 0\n",
    "(different) and 1 (identical) which is similar to a distance (in a distance, two items can be identical with a\n",
    "0 distance and infinite if they are really different).\n"
   ]
  },
  {
   "cell_type": "code",
   "execution_count": 35,
   "metadata": {},
   "outputs": [],
   "source": [
    "## load the file created with the scraping website\n",
    "links_desc = pd.read_csv('/jet/prs/workspace/Movie/ml20m/movie_desc.csv')"
   ]
  },
  {
   "cell_type": "code",
   "execution_count": 36,
   "metadata": {},
   "outputs": [],
   "source": [
    "movies_desc = movies_orig.merge(links_desc, on='movieId', how='left')"
   ]
  },
  {
   "cell_type": "code",
   "execution_count": 37,
   "metadata": {},
   "outputs": [],
   "source": [
    "movies_desc['genres_desc']=movies_desc['genres']+ \" \"+ movies_desc['desc']"
   ]
  },
  {
   "cell_type": "code",
   "execution_count": 38,
   "metadata": {},
   "outputs": [
    {
     "data": {
      "text/plain": [
       "(4993, 15)"
      ]
     },
     "execution_count": 38,
     "metadata": {},
     "output_type": "execute_result"
    }
   ],
   "source": [
    "# movies_desc = movies_desc[movies_desc.genres_desc.notnull()]\n",
    "movies_desc = movies_desc[movies_desc.desc.notnull()]\n",
    "movies_desc.shape"
   ]
  },
  {
   "cell_type": "code",
   "execution_count": 39,
   "metadata": {},
   "outputs": [
    {
     "data": {
      "text/html": [
       "<div>\n",
       "<style scoped>\n",
       "    .dataframe tbody tr th:only-of-type {\n",
       "        vertical-align: middle;\n",
       "    }\n",
       "\n",
       "    .dataframe tbody tr th {\n",
       "        vertical-align: top;\n",
       "    }\n",
       "\n",
       "    .dataframe thead th {\n",
       "        text-align: right;\n",
       "    }\n",
       "</style>\n",
       "<table border=\"1\" class=\"dataframe\">\n",
       "  <thead>\n",
       "    <tr style=\"text-align: right;\">\n",
       "      <th></th>\n",
       "      <th>movieId</th>\n",
       "      <th>title</th>\n",
       "      <th>genres</th>\n",
       "      <th>year</th>\n",
       "      <th>movieId_mean_rating</th>\n",
       "      <th>movieId_count_rating</th>\n",
       "      <th>movieId_nunique_userId</th>\n",
       "      <th>time_since_issuance</th>\n",
       "      <th>views_per_year</th>\n",
       "      <th>views_per_year_log1p</th>\n",
       "      <th>Unnamed: 0</th>\n",
       "      <th>imdbId</th>\n",
       "      <th>tmdbId</th>\n",
       "      <th>desc</th>\n",
       "      <th>genres_desc</th>\n",
       "    </tr>\n",
       "  </thead>\n",
       "  <tbody>\n",
       "    <tr>\n",
       "      <th>0</th>\n",
       "      <td>1</td>\n",
       "      <td>Toy Story (1995)</td>\n",
       "      <td>Adventure Animation Children Comedy Fantasy</td>\n",
       "      <td>1995</td>\n",
       "      <td>3.921240</td>\n",
       "      <td>49695.0</td>\n",
       "      <td>49695.0</td>\n",
       "      <td>1995</td>\n",
       "      <td>2366.0</td>\n",
       "      <td>7.769379</td>\n",
       "      <td>0.0</td>\n",
       "      <td>114709.0</td>\n",
       "      <td>862.0</td>\n",
       "      <td>Led by Woody, Andy's toys live happily in his ...</td>\n",
       "      <td>Adventure Animation Children Comedy Fantasy Le...</td>\n",
       "    </tr>\n",
       "    <tr>\n",
       "      <th>1</th>\n",
       "      <td>2</td>\n",
       "      <td>Jumanji (1995)</td>\n",
       "      <td>Adventure Children Fantasy</td>\n",
       "      <td>1995</td>\n",
       "      <td>3.211977</td>\n",
       "      <td>22243.0</td>\n",
       "      <td>22243.0</td>\n",
       "      <td>1995</td>\n",
       "      <td>1059.0</td>\n",
       "      <td>6.966024</td>\n",
       "      <td>1.0</td>\n",
       "      <td>113497.0</td>\n",
       "      <td>8844.0</td>\n",
       "      <td>When siblings Judy and Peter discover an encha...</td>\n",
       "      <td>Adventure Children Fantasy When siblings Judy ...</td>\n",
       "    </tr>\n",
       "    <tr>\n",
       "      <th>2</th>\n",
       "      <td>3</td>\n",
       "      <td>Grumpier Old Men (1995)</td>\n",
       "      <td>Comedy Romance</td>\n",
       "      <td>1995</td>\n",
       "      <td>3.151040</td>\n",
       "      <td>12735.0</td>\n",
       "      <td>12735.0</td>\n",
       "      <td>1995</td>\n",
       "      <td>606.0</td>\n",
       "      <td>6.408529</td>\n",
       "      <td>2.0</td>\n",
       "      <td>113228.0</td>\n",
       "      <td>15602.0</td>\n",
       "      <td>A family wedding reignites the ancient feud be...</td>\n",
       "      <td>Comedy Romance A family wedding reignites the ...</td>\n",
       "    </tr>\n",
       "    <tr>\n",
       "      <th>3</th>\n",
       "      <td>4</td>\n",
       "      <td>Waiting to Exhale (1995)</td>\n",
       "      <td>Comedy Drama Romance</td>\n",
       "      <td>1995</td>\n",
       "      <td>2.861393</td>\n",
       "      <td>2756.0</td>\n",
       "      <td>2756.0</td>\n",
       "      <td>1995</td>\n",
       "      <td>131.0</td>\n",
       "      <td>4.882802</td>\n",
       "      <td>3.0</td>\n",
       "      <td>114885.0</td>\n",
       "      <td>31357.0</td>\n",
       "      <td>Cheated on, mistreated and stepped on, the wom...</td>\n",
       "      <td>Comedy Drama Romance Cheated on, mistreated an...</td>\n",
       "    </tr>\n",
       "    <tr>\n",
       "      <th>4</th>\n",
       "      <td>5</td>\n",
       "      <td>Father of the Bride Part II (1995)</td>\n",
       "      <td>Comedy</td>\n",
       "      <td>1995</td>\n",
       "      <td>3.064592</td>\n",
       "      <td>12161.0</td>\n",
       "      <td>12161.0</td>\n",
       "      <td>1995</td>\n",
       "      <td>579.0</td>\n",
       "      <td>6.363028</td>\n",
       "      <td>4.0</td>\n",
       "      <td>113041.0</td>\n",
       "      <td>11862.0</td>\n",
       "      <td>Just when George Banks has recovered from his ...</td>\n",
       "      <td>Comedy Just when George Banks has recovered fr...</td>\n",
       "    </tr>\n",
       "  </tbody>\n",
       "</table>\n",
       "</div>"
      ],
      "text/plain": [
       "   movieId                               title  \\\n",
       "0        1                    Toy Story (1995)   \n",
       "1        2                      Jumanji (1995)   \n",
       "2        3             Grumpier Old Men (1995)   \n",
       "3        4            Waiting to Exhale (1995)   \n",
       "4        5  Father of the Bride Part II (1995)   \n",
       "\n",
       "                                        genres  year  movieId_mean_rating  \\\n",
       "0  Adventure Animation Children Comedy Fantasy  1995             3.921240   \n",
       "1                   Adventure Children Fantasy  1995             3.211977   \n",
       "2                               Comedy Romance  1995             3.151040   \n",
       "3                         Comedy Drama Romance  1995             2.861393   \n",
       "4                                       Comedy  1995             3.064592   \n",
       "\n",
       "   movieId_count_rating  movieId_nunique_userId  time_since_issuance  \\\n",
       "0               49695.0                 49695.0                 1995   \n",
       "1               22243.0                 22243.0                 1995   \n",
       "2               12735.0                 12735.0                 1995   \n",
       "3                2756.0                  2756.0                 1995   \n",
       "4               12161.0                 12161.0                 1995   \n",
       "\n",
       "   views_per_year  views_per_year_log1p  Unnamed: 0    imdbId   tmdbId  \\\n",
       "0          2366.0              7.769379         0.0  114709.0    862.0   \n",
       "1          1059.0              6.966024         1.0  113497.0   8844.0   \n",
       "2           606.0              6.408529         2.0  113228.0  15602.0   \n",
       "3           131.0              4.882802         3.0  114885.0  31357.0   \n",
       "4           579.0              6.363028         4.0  113041.0  11862.0   \n",
       "\n",
       "                                                desc  \\\n",
       "0  Led by Woody, Andy's toys live happily in his ...   \n",
       "1  When siblings Judy and Peter discover an encha...   \n",
       "2  A family wedding reignites the ancient feud be...   \n",
       "3  Cheated on, mistreated and stepped on, the wom...   \n",
       "4  Just when George Banks has recovered from his ...   \n",
       "\n",
       "                                         genres_desc  \n",
       "0  Adventure Animation Children Comedy Fantasy Le...  \n",
       "1  Adventure Children Fantasy When siblings Judy ...  \n",
       "2  Comedy Romance A family wedding reignites the ...  \n",
       "3  Comedy Drama Romance Cheated on, mistreated an...  \n",
       "4  Comedy Just when George Banks has recovered fr...  "
      ]
     },
     "execution_count": 39,
     "metadata": {},
     "output_type": "execute_result"
    }
   ],
   "source": [
    "movies_desc.head()"
   ]
  },
  {
   "cell_type": "code",
   "execution_count": 3,
   "metadata": {},
   "outputs": [
    {
     "ename": "NameError",
     "evalue": "name 'movies_desc' is not defined",
     "output_type": "error",
     "traceback": [
      "\u001b[0;31m---------------------------------------------------------------------------\u001b[0m",
      "\u001b[0;31mNameError\u001b[0m                                 Traceback (most recent call last)",
      "\u001b[0;32m<ipython-input-3-f5b8493927b2>\u001b[0m in \u001b[0;36m<module>\u001b[0;34m()\u001b[0m\n\u001b[1;32m      4\u001b[0m \u001b[0;31m# define tfidf parameter in order to count/vectorize the description vector and then normalize it.\u001b[0m\u001b[0;34m\u001b[0m\u001b[0;34m\u001b[0m\u001b[0m\n\u001b[1;32m      5\u001b[0m \u001b[0mmodel_tf\u001b[0m \u001b[0;34m=\u001b[0m \u001b[0mTfidfVectorizer\u001b[0m\u001b[0;34m(\u001b[0m\u001b[0manalyzer\u001b[0m\u001b[0;34m=\u001b[0m\u001b[0;34m'word'\u001b[0m\u001b[0;34m,\u001b[0m\u001b[0mngram_range\u001b[0m\u001b[0;34m=\u001b[0m\u001b[0;34m(\u001b[0m\u001b[0;36m1\u001b[0m\u001b[0;34m,\u001b[0m \u001b[0;36m5\u001b[0m\u001b[0;34m)\u001b[0m\u001b[0;34m,\u001b[0m \u001b[0mmin_df\u001b[0m\u001b[0;34m=\u001b[0m\u001b[0;36m1\u001b[0m\u001b[0;34m,\u001b[0m \u001b[0mstop_words\u001b[0m\u001b[0;34m=\u001b[0m\u001b[0;34m'english'\u001b[0m\u001b[0;34m)\u001b[0m\u001b[0;34m\u001b[0m\u001b[0m\n\u001b[0;32m----> 6\u001b[0;31m \u001b[0mtfidf_matrice\u001b[0m \u001b[0;34m=\u001b[0m \u001b[0mmodel_tf\u001b[0m\u001b[0;34m.\u001b[0m\u001b[0mfit_transform\u001b[0m\u001b[0;34m(\u001b[0m\u001b[0mmovies_desc\u001b[0m\u001b[0;34m[\u001b[0m\u001b[0;34m'genres_desc'\u001b[0m\u001b[0;34m]\u001b[0m\u001b[0;34m)\u001b[0m\u001b[0;34m\u001b[0m\u001b[0m\n\u001b[0m",
      "\u001b[0;31mNameError\u001b[0m: name 'movies_desc' is not defined"
     ]
    }
   ],
   "source": [
    "from sklearn.feature_extraction.text import TfidfVectorizer, CountVectorizer\n",
    "from sklearn.metrics.pairwise import linear_kernel, cosine_similarity\n",
    "\n",
    "# define tfidf parameter in order to count/vectorize the description vector and then normalize it.\n",
    "model_tf = TfidfVectorizer(analyzer='word',ngram_range=(1, 5), min_df=1, stop_words='english')\n",
    "tfidf_matrice = model_tf.fit_transform(movies_desc['genres_desc'])"
   ]
  },
  {
   "cell_type": "code",
   "execution_count": 41,
   "metadata": {},
   "outputs": [
    {
     "data": {
      "text/plain": [
       "(4993, 559547)"
      ]
     },
     "execution_count": 41,
     "metadata": {},
     "output_type": "execute_result"
    }
   ],
   "source": [
    "tfidf_matrice.shape"
   ]
  },
  {
   "cell_type": "code",
   "execution_count": 2,
   "metadata": {},
   "outputs": [
    {
     "ename": "NameError",
     "evalue": "name 'tfidf_matrice' is not defined",
     "output_type": "error",
     "traceback": [
      "\u001b[0;31m---------------------------------------------------------------------------\u001b[0m",
      "\u001b[0;31mNameError\u001b[0m                                 Traceback (most recent call last)",
      "\u001b[0;32m<ipython-input-2-449a7bf6744d>\u001b[0m in \u001b[0;36m<module>\u001b[0;34m()\u001b[0m\n\u001b[1;32m      1\u001b[0m \u001b[0;31m# since the matrix is normalized, we can do the dot product using:\u001b[0m\u001b[0;34m\u001b[0m\u001b[0;34m\u001b[0m\u001b[0m\n\u001b[1;32m      2\u001b[0m \u001b[0;32mfrom\u001b[0m \u001b[0msklearn\u001b[0m\u001b[0;34m.\u001b[0m\u001b[0mmetrics\u001b[0m\u001b[0;34m.\u001b[0m\u001b[0mpairwise\u001b[0m \u001b[0;32mimport\u001b[0m \u001b[0mpairwise_distances\u001b[0m\u001b[0;34m\u001b[0m\u001b[0m\n\u001b[0;32m----> 3\u001b[0;31m \u001b[0mpairwise_distances\u001b[0m\u001b[0;34m(\u001b[0m\u001b[0mtfidf_matrice\u001b[0m\u001b[0;34m,\u001b[0m \u001b[0mtfidf_matrice2\u001b[0m\u001b[0;34m,\u001b[0m \u001b[0mmetric\u001b[0m\u001b[0;34m=\u001b[0m\u001b[0;34m'cosine'\u001b[0m\u001b[0;34m)\u001b[0m\u001b[0;34m\u001b[0m\u001b[0m\n\u001b[0m",
      "\u001b[0;31mNameError\u001b[0m: name 'tfidf_matrice' is not defined"
     ]
    }
   ],
   "source": [
    "# since the matrix is normalized, we can do the dot product using:\n",
    "cosine_similarite = linear_kernel(tfidf_matrice, tfidf_matrice)"
   ]
  },
  {
   "cell_type": "code",
   "execution_count": 43,
   "metadata": {},
   "outputs": [
    {
     "data": {
      "text/plain": [
       "array([  1.00000000e+00,   5.69663728e-03,   3.53709138e-04, ...,\n",
       "         9.37116215e-04,   3.42407397e-04,   1.17169606e-03])"
      ]
     },
     "execution_count": 43,
     "metadata": {},
     "output_type": "execute_result"
    }
   ],
   "source": [
    "cosine_similarite[0]"
   ]
  },
  {
   "cell_type": "code",
   "execution_count": null,
   "metadata": {},
   "outputs": [],
   "source": []
  },
  {
   "cell_type": "code",
   "execution_count": 44,
   "metadata": {},
   "outputs": [],
   "source": [
    "# fonction to output the list of ordered movies with the most similarities\n",
    "\n",
    "movies_desc = movies_desc.reset_index(drop=True)\n",
    "movies_ID = movies_desc['movieId']\n",
    "movies_title = movies_desc['title']\n",
    "indices = pd.Series(movies_desc.index, index=movies_desc['movieId'])\n",
    "\n",
    "def some_recommendations(movie_id, rec_nb=100):\n",
    "    idx = indices[movie_id]\n",
    "    #sort by order of similarity from 1 to 0:\n",
    "    similarity_scores = list(enumerate(cosine_similarite[idx]))\n",
    "    similarity_scores = sorted(similarity_scores, key=lambda x: x[1], reverse=True)\n",
    "    similarity_scores = similarity_scores[1:rec_nb]\n",
    "    movie_indices = [i[0] for i in similarity_scores]\n",
    "    return print('Movie input:', movies_title.iloc[idx]), print('\\n \\nOrdered related movies: \\n',movies_title.iloc[movie_indices])"
   ]
  },
  {
   "cell_type": "code",
   "execution_count": 45,
   "metadata": {},
   "outputs": [
    {
     "name": "stdout",
     "output_type": "stream",
     "text": [
      "Movie input: Toy Story (1995)\n",
      "\n",
      " \n",
      "Ordered related movies: \n",
      " 2989                                 Toy Story 2 (1999)\n",
      "4747                              Monsters, Inc. (2001)\n",
      "661                                    Space Jam (1996)\n",
      "4169                                       Shrek (2001)\n",
      "2174                                        Antz (1998)\n",
      "3623     Adventures of Rocky and Bullwinkle, The (2000)\n",
      "1876                              Child's Play 2 (1990)\n",
      "3882                   Emperor's New Groove, The (2000)\n",
      "1068                       Rebel Without a Cause (1955)\n",
      "1925                                   Condorman (1981)\n",
      "2235                               Bug's Life, A (1998)\n",
      "1176    Grand Day Out with Wallace and Gromit, A (1989)\n",
      "4851                   Jimmy Neutron: Boy Genius (2001)\n",
      "3049                             Man on the Moon (1999)\n",
      "Name: title, dtype: object\n"
     ]
    },
    {
     "data": {
      "text/plain": [
       "(None, None)"
      ]
     },
     "execution_count": 45,
     "metadata": {},
     "output_type": "execute_result"
    }
   ],
   "source": [
    "some_recommendations(1,15)"
   ]
  },
  {
   "cell_type": "code",
   "execution_count": 46,
   "metadata": {},
   "outputs": [
    {
     "name": "stdout",
     "output_type": "stream",
     "text": [
      "Movie input: Godfather, The (1972)\n",
      "\n",
      " \n",
      "Ordered related movies: \n",
      " 1174                       Godfather: Part II, The (1974)\n",
      "29      Shanghai Triad (Yao a yao yao dao waipo qiao) ...\n",
      "1907                      Godfather: Part III, The (1990)\n",
      "4315                                          Made (2001)\n",
      "2883                                American Movie (1999)\n",
      "4464                                 Harlem Nights (1989)\n",
      "3286                                        Impact (1949)\n",
      "2616                             Color Purple, The (1985)\n",
      "3887                            Before Night Falls (2000)\n",
      "2579                                 Summer of Sam (1999)\n",
      "4296                           Written on the Wind (1956)\n",
      "3989                             Jaws: The Revenge (1987)\n",
      "4609                                      3 Ninjas (1992)\n",
      "1867                                  Halloween II (1981)\n",
      "Name: title, dtype: object\n"
     ]
    },
    {
     "data": {
      "text/plain": [
       "(None, None)"
      ]
     },
     "execution_count": 46,
     "metadata": {},
     "output_type": "execute_result"
    }
   ],
   "source": [
    "some_recommendations(858,15)"
   ]
  },
  {
   "cell_type": "markdown",
   "metadata": {},
   "source": [
    "These are our first ouput which are quite satisfying. As shown by the results, the year range is quite large."
   ]
  },
  {
   "cell_type": "markdown",
   "metadata": {},
   "source": [
    "An alternative to the tdidf transformation would have been to use the Word2Vec as it is able to find\n",
    "word declination and similar expression in a sentence. However, Word2Vec produces a dense matrix\n",
    "which is not as easily scalable."
   ]
  },
  {
   "cell_type": "code",
   "execution_count": null,
   "metadata": {},
   "outputs": [],
   "source": []
  },
  {
   "cell_type": "markdown",
   "metadata": {},
   "source": [
    "# 2. Relatedness method based on weighted features "
   ]
  },
  {
   "cell_type": "markdown",
   "metadata": {},
   "source": [
    "As mentioned before, we can increase the number of features in order to find more similarities between\n",
    "movies: the titles are likely to show that two movies are related if they contains the same word, close\n",
    "average ratings of two different movies may reveal movies of the same quality, comparing the year of\n",
    "issuance of two movies shall help finding movies of the same period.\n",
    "\n",
    "Cosine matrices are calculated for the description, titles and genres respectively. Since the ratings, views\n",
    "(number of ratings received) and year of issuance are on interval scale, we can the absolute value of the\n",
    "difference for the distance (it needs to be rescaled between 0 and 1 and reshaped into 1-distance to be\n",
    "homogenous to the cosine similarity)."
   ]
  },
  {
   "cell_type": "code",
   "execution_count": 47,
   "metadata": {},
   "outputs": [
    {
     "data": {
      "text/html": [
       "<div>\n",
       "<style scoped>\n",
       "    .dataframe tbody tr th:only-of-type {\n",
       "        vertical-align: middle;\n",
       "    }\n",
       "\n",
       "    .dataframe tbody tr th {\n",
       "        vertical-align: top;\n",
       "    }\n",
       "\n",
       "    .dataframe thead th {\n",
       "        text-align: right;\n",
       "    }\n",
       "</style>\n",
       "<table border=\"1\" class=\"dataframe\">\n",
       "  <thead>\n",
       "    <tr style=\"text-align: right;\">\n",
       "      <th></th>\n",
       "      <th>movieId</th>\n",
       "      <th>title</th>\n",
       "      <th>genres</th>\n",
       "      <th>year</th>\n",
       "      <th>movieId_mean_rating</th>\n",
       "      <th>movieId_count_rating</th>\n",
       "      <th>movieId_nunique_userId</th>\n",
       "      <th>time_since_issuance</th>\n",
       "      <th>views_per_year</th>\n",
       "      <th>views_per_year_log1p</th>\n",
       "      <th>Unnamed: 0</th>\n",
       "      <th>imdbId</th>\n",
       "      <th>tmdbId</th>\n",
       "      <th>desc</th>\n",
       "      <th>genres_desc</th>\n",
       "      <th>title_simple</th>\n",
       "    </tr>\n",
       "  </thead>\n",
       "  <tbody>\n",
       "    <tr>\n",
       "      <th>0</th>\n",
       "      <td>1</td>\n",
       "      <td>Toy Story (1995)</td>\n",
       "      <td>Adventure Animation Children Comedy Fantasy</td>\n",
       "      <td>1995</td>\n",
       "      <td>3.921240</td>\n",
       "      <td>49695.0</td>\n",
       "      <td>49695.0</td>\n",
       "      <td>1995</td>\n",
       "      <td>2366.0</td>\n",
       "      <td>7.769379</td>\n",
       "      <td>0.0</td>\n",
       "      <td>114709.0</td>\n",
       "      <td>862.0</td>\n",
       "      <td>Led by Woody, Andy's toys live happily in his ...</td>\n",
       "      <td>Adventure Animation Children Comedy Fantasy Le...</td>\n",
       "      <td>Toy Story</td>\n",
       "    </tr>\n",
       "    <tr>\n",
       "      <th>1</th>\n",
       "      <td>2</td>\n",
       "      <td>Jumanji (1995)</td>\n",
       "      <td>Adventure Children Fantasy</td>\n",
       "      <td>1995</td>\n",
       "      <td>3.211977</td>\n",
       "      <td>22243.0</td>\n",
       "      <td>22243.0</td>\n",
       "      <td>1995</td>\n",
       "      <td>1059.0</td>\n",
       "      <td>6.966024</td>\n",
       "      <td>1.0</td>\n",
       "      <td>113497.0</td>\n",
       "      <td>8844.0</td>\n",
       "      <td>When siblings Judy and Peter discover an encha...</td>\n",
       "      <td>Adventure Children Fantasy When siblings Judy ...</td>\n",
       "      <td>Jumanji</td>\n",
       "    </tr>\n",
       "    <tr>\n",
       "      <th>2</th>\n",
       "      <td>3</td>\n",
       "      <td>Grumpier Old Men (1995)</td>\n",
       "      <td>Comedy Romance</td>\n",
       "      <td>1995</td>\n",
       "      <td>3.151040</td>\n",
       "      <td>12735.0</td>\n",
       "      <td>12735.0</td>\n",
       "      <td>1995</td>\n",
       "      <td>606.0</td>\n",
       "      <td>6.408529</td>\n",
       "      <td>2.0</td>\n",
       "      <td>113228.0</td>\n",
       "      <td>15602.0</td>\n",
       "      <td>A family wedding reignites the ancient feud be...</td>\n",
       "      <td>Comedy Romance A family wedding reignites the ...</td>\n",
       "      <td>Grumpier Old Men</td>\n",
       "    </tr>\n",
       "    <tr>\n",
       "      <th>3</th>\n",
       "      <td>4</td>\n",
       "      <td>Waiting to Exhale (1995)</td>\n",
       "      <td>Comedy Drama Romance</td>\n",
       "      <td>1995</td>\n",
       "      <td>2.861393</td>\n",
       "      <td>2756.0</td>\n",
       "      <td>2756.0</td>\n",
       "      <td>1995</td>\n",
       "      <td>131.0</td>\n",
       "      <td>4.882802</td>\n",
       "      <td>3.0</td>\n",
       "      <td>114885.0</td>\n",
       "      <td>31357.0</td>\n",
       "      <td>Cheated on, mistreated and stepped on, the wom...</td>\n",
       "      <td>Comedy Drama Romance Cheated on, mistreated an...</td>\n",
       "      <td>Waiting to Exhale</td>\n",
       "    </tr>\n",
       "    <tr>\n",
       "      <th>4</th>\n",
       "      <td>5</td>\n",
       "      <td>Father of the Bride Part II (1995)</td>\n",
       "      <td>Comedy</td>\n",
       "      <td>1995</td>\n",
       "      <td>3.064592</td>\n",
       "      <td>12161.0</td>\n",
       "      <td>12161.0</td>\n",
       "      <td>1995</td>\n",
       "      <td>579.0</td>\n",
       "      <td>6.363028</td>\n",
       "      <td>4.0</td>\n",
       "      <td>113041.0</td>\n",
       "      <td>11862.0</td>\n",
       "      <td>Just when George Banks has recovered from his ...</td>\n",
       "      <td>Comedy Just when George Banks has recovered fr...</td>\n",
       "      <td>Father of the Bride Part II</td>\n",
       "    </tr>\n",
       "  </tbody>\n",
       "</table>\n",
       "</div>"
      ],
      "text/plain": [
       "   movieId                               title  \\\n",
       "0        1                    Toy Story (1995)   \n",
       "1        2                      Jumanji (1995)   \n",
       "2        3             Grumpier Old Men (1995)   \n",
       "3        4            Waiting to Exhale (1995)   \n",
       "4        5  Father of the Bride Part II (1995)   \n",
       "\n",
       "                                        genres  year  movieId_mean_rating  \\\n",
       "0  Adventure Animation Children Comedy Fantasy  1995             3.921240   \n",
       "1                   Adventure Children Fantasy  1995             3.211977   \n",
       "2                               Comedy Romance  1995             3.151040   \n",
       "3                         Comedy Drama Romance  1995             2.861393   \n",
       "4                                       Comedy  1995             3.064592   \n",
       "\n",
       "   movieId_count_rating  movieId_nunique_userId  time_since_issuance  \\\n",
       "0               49695.0                 49695.0                 1995   \n",
       "1               22243.0                 22243.0                 1995   \n",
       "2               12735.0                 12735.0                 1995   \n",
       "3                2756.0                  2756.0                 1995   \n",
       "4               12161.0                 12161.0                 1995   \n",
       "\n",
       "   views_per_year  views_per_year_log1p  Unnamed: 0    imdbId   tmdbId  \\\n",
       "0          2366.0              7.769379         0.0  114709.0    862.0   \n",
       "1          1059.0              6.966024         1.0  113497.0   8844.0   \n",
       "2           606.0              6.408529         2.0  113228.0  15602.0   \n",
       "3           131.0              4.882802         3.0  114885.0  31357.0   \n",
       "4           579.0              6.363028         4.0  113041.0  11862.0   \n",
       "\n",
       "                                                desc  \\\n",
       "0  Led by Woody, Andy's toys live happily in his ...   \n",
       "1  When siblings Judy and Peter discover an encha...   \n",
       "2  A family wedding reignites the ancient feud be...   \n",
       "3  Cheated on, mistreated and stepped on, the wom...   \n",
       "4  Just when George Banks has recovered from his ...   \n",
       "\n",
       "                                         genres_desc  \\\n",
       "0  Adventure Animation Children Comedy Fantasy Le...   \n",
       "1  Adventure Children Fantasy When siblings Judy ...   \n",
       "2  Comedy Romance A family wedding reignites the ...   \n",
       "3  Comedy Drama Romance Cheated on, mistreated an...   \n",
       "4  Comedy Just when George Banks has recovered fr...   \n",
       "\n",
       "                   title_simple  \n",
       "0                    Toy Story   \n",
       "1                      Jumanji   \n",
       "2             Grumpier Old Men   \n",
       "3            Waiting to Exhale   \n",
       "4  Father of the Bride Part II   "
      ]
     },
     "execution_count": 47,
     "metadata": {},
     "output_type": "execute_result"
    }
   ],
   "source": [
    "# extract the title and year from the title column into 2 features\n",
    "movies_met2 = movies_desc.copy()\n",
    "movies_met2['title_simple'] = movies_met2.title.str[:-6]\n",
    "\n",
    "movies_met2.head()"
   ]
  },
  {
   "cell_type": "code",
   "execution_count": 48,
   "metadata": {},
   "outputs": [
    {
     "name": "stdout",
     "output_type": "stream",
     "text": [
      "overall_avg_rating:  3.18137883841\n",
      "overall_avg_user_cnt:  3.64359667533\n"
     ]
    }
   ],
   "source": [
    "overall_avg_rating = movies_met2.movieId_mean_rating.mean() \n",
    "print('overall_avg_rating: ',overall_avg_rating)\n",
    "\n",
    "overall_avg_user_cnt = movies_met2.views_per_year_log1p.mean() \n",
    "print('overall_avg_user_cnt: ',overall_avg_user_cnt)"
   ]
  },
  {
   "cell_type": "code",
   "execution_count": 49,
   "metadata": {},
   "outputs": [
    {
     "data": {
      "text/plain": [
       "((4993, 528329), (4993, 774), (4993, 16791))"
      ]
     },
     "execution_count": 49,
     "metadata": {},
     "output_type": "execute_result"
    }
   ],
   "source": [
    "model_tf_desc = TfidfVectorizer(analyzer='word',ngram_range=(1, 5), min_df=1, stop_words='english')\n",
    "tfidf_matrice_desc = model_tf_desc.fit_transform(movies_met2['desc'])\n",
    "cosine_similarite_desc = linear_kernel(tfidf_matrice_desc, tfidf_matrice_desc)\n",
    "\n",
    "model_tf_genre = TfidfVectorizer(analyzer='word',ngram_range=(1, 10), min_df=1, stop_words='english')\n",
    "tfidf_matrice_genre = model_tf_genre.fit_transform(movies_met2['genres'])\n",
    "cosine_similarite_genre = linear_kernel(tfidf_matrice_genre, tfidf_matrice_genre)\n",
    "\n",
    "model_tf_title = TfidfVectorizer(analyzer='word',ngram_range=(1, 3), min_df=1, stop_words='english')\n",
    "tfidf_matrice_title = model_tf_genre.fit_transform(movies_met2['title_simple'])\n",
    "cosine_similarite_title = linear_kernel(tfidf_matrice_title, tfidf_matrice_title)\n",
    "\n",
    "tfidf_matrice_desc.shape, tfidf_matrice_genre.shape, tfidf_matrice_title.shape"
   ]
  },
  {
   "cell_type": "code",
   "execution_count": 50,
   "metadata": {},
   "outputs": [
    {
     "data": {
      "text/plain": [
       "(4993,)"
      ]
     },
     "execution_count": 50,
     "metadata": {},
     "output_type": "execute_result"
    }
   ],
   "source": [
    "cosine_similarite_desc[0].shape"
   ]
  },
  {
   "cell_type": "code",
   "execution_count": 51,
   "metadata": {},
   "outputs": [],
   "source": [
    "# transform the user count into log1p in order to rescale the  \n",
    "movies_title = movies_met2['title']"
   ]
  },
  {
   "cell_type": "code",
   "execution_count": 52,
   "metadata": {},
   "outputs": [],
   "source": [
    "# modified function to output the list of ordered movies\n",
    "\n",
    "movies_met2 = movies_met2.reset_index(drop=True)\n",
    "movies_ID = movies_met2['movieId']\n",
    "movies_title = movies_met2['title']\n",
    "indices = pd.Series(movies_met2.index, index=movies_met2['movieId'])\n",
    "\n",
    "\n",
    "# Parameter weights on 6 differents features\n",
    "# decriptionSimilarityWeight = 1\n",
    "# genresSimilarityWeight = .8\n",
    "# titleSimilarityWeight = .8\n",
    "# viewsSimilarityWeight = .5\n",
    "# ratingAvgWeight = .5\n",
    "# yearDistanceWeight = .2\n",
    "\n",
    "\n",
    "decriptionSimilarityWeight = 1\n",
    "genresSimilarityWeight = 1\n",
    "titleSimilarityWeight = .8\n",
    "viewsSimilarityWeight = .1\n",
    "ratingAvgWeight = 1\n",
    "yearDistanceWeight = .2\n",
    "\n",
    "\n",
    "def some_recommendations_met2(movie_id, rec_nb=100):\n",
    "    idx = indices[movie_id]\n",
    "    \n",
    "    desc_sim = cosine_similarite_desc[idx]*decriptionSimilarityWeight\n",
    "    genre_sim = cosine_similarite_genre[idx]*genresSimilarityWeight\n",
    "    title_sim = cosine_similarite_title[idx]*titleSimilarityWeight\n",
    "    \n",
    "    movie_id_rating = movies_met2[movies_met2['movieId'] == movie_id]['movieId_mean_rating'].values\n",
    "    rating_sim = (1-abs(np.array(movies_met2['movieId_mean_rating'])-movie_id_rating)/5)*ratingAvgWeight\n",
    "#     print(rating_sim.max())\n",
    "    \n",
    "    movie_id_views = movies_met2[movies_met2['movieId'] == movie_id]['views_per_year_log1p'].values\n",
    "    views_sim = (1-abs(np.array(movies_met2['views_per_year_log1p'])-movie_id_views)/11)*viewsSimilarityWeight\n",
    "#     print(views_sim.max())\n",
    "    \n",
    "    movie_id_year = movies_met2[movies_met2['movieId'] == movie_id]['year'].values\n",
    "    year_sim = (1-abs(np.array(movies_met2['year'])-movie_id_year)/20)*yearDistanceWeight\n",
    "#     print(year_sim.max())\n",
    "    \n",
    "    similarite_total = desc_sim+genre_sim+title_sim+rating_sim+views_sim+year_sim\n",
    " \n",
    "    \n",
    "    similarity_scores = list(enumerate(similarite_total))\n",
    "    similarity_scores = sorted(similarity_scores, key=lambda x: x[1], reverse=True)\n",
    "    similarity_scores = similarity_scores[1:rec_nb]\n",
    "    movie_indices = [i[0] for i in similarity_scores]\n",
    "    return print('movie input:', movies_title.iloc[idx]), print('\\n',movies_title.iloc[movie_indices])"
   ]
  },
  {
   "cell_type": "code",
   "execution_count": 53,
   "metadata": {},
   "outputs": [],
   "source": [
    "# movies_met2[movies_met2.title.str.contains('father')]"
   ]
  },
  {
   "cell_type": "code",
   "execution_count": 56,
   "metadata": {},
   "outputs": [
    {
     "name": "stdout",
     "output_type": "stream",
     "text": [
      "movie input: Toy Story (1995)\n",
      "\n",
      " 2989                                 Toy Story 2 (1999)\n",
      "4747                              Monsters, Inc. (2001)\n",
      "3882                   Emperor's New Groove, The (2000)\n",
      "2174                                        Antz (1998)\n",
      "4169                                       Shrek (2001)\n",
      "2235                               Bug's Life, A (1998)\n",
      "3623     Adventures of Rocky and Bullwinkle, The (2000)\n",
      "2025                           American Tail, An (1986)\n",
      "661                                    Space Jam (1996)\n",
      "725              Wallace & Gromit: A Close Shave (1995)\n",
      "4851                   Jimmy Neutron: Boy Genius (2001)\n",
      "1176    Grand Day Out with Wallace and Gromit, A (1989)\n",
      "3620                                 Chicken Run (2000)\n",
      "811                                      Matilda (1996)\n",
      "Name: title, dtype: object\n"
     ]
    },
    {
     "data": {
      "text/plain": [
       "(None, None)"
      ]
     },
     "execution_count": 56,
     "metadata": {},
     "output_type": "execute_result"
    }
   ],
   "source": [
    "some_recommendations_met2(1,15) #858 2023"
   ]
  },
  {
   "cell_type": "code",
   "execution_count": 57,
   "metadata": {},
   "outputs": [
    {
     "name": "stdout",
     "output_type": "stream",
     "text": [
      "movie input: Godfather, The (1972)\n",
      "\n",
      " 1174                       Godfather: Part II, The (1974)\n",
      "3072                                      Papillon (1973)\n",
      "3604                                       Serpico (1973)\n",
      "3236                             Dog Day Afternoon (1975)\n",
      "4917    Enigma of Kaspar Hauser, The (a.k.a. Mystery o...\n",
      "1049                              Bonnie and Clyde (1967)\n",
      "2608       400 Blows, The (Les quatre cents coups) (1959)\n",
      "1166                                    Goodfellas (1990)\n",
      "1180                   Once Upon a Time in America (1984)\n",
      "1829                             On the Waterfront (1954)\n",
      "314                      Shawshank Redemption, The (1994)\n",
      "3178                                   Blue Collar (1978)\n",
      "3458                   King of Marvin Gardens, The (1972)\n",
      "4557                          Who'll Stop the Rain (1978)\n",
      "Name: title, dtype: object\n"
     ]
    },
    {
     "data": {
      "text/plain": [
       "(None, None)"
      ]
     },
     "execution_count": 57,
     "metadata": {},
     "output_type": "execute_result"
    }
   ],
   "source": [
    "some_recommendations_met2(858,15) #858 2023"
   ]
  },
  {
   "cell_type": "markdown",
   "metadata": {},
   "source": [
    "In this second attempt, the movies are much closer in term of time period."
   ]
  },
  {
   "cell_type": "markdown",
   "metadata": {},
   "source": [
    "Unfortunately, given the unsupervised method, these two methods have the inconvenient to take only\n",
    "the view of the author of the code.\n",
    "\n",
    "Instead of assessing the results visually, we could have used a metric such as recall traditionally used in\n",
    "recommendation engine. Recall@n corresponds to the rate of # movies recommended and relevant in\n",
    "the top n divided by n, number of movies recommended. The relevance of a movie has to be defined\n",
    "and traditionally, movies are relevant to the user if the movie ratings are rated higher than a fixed\n",
    "threshold. Then we can imagine looking for the optimal values of the feature weight parameters in order\n",
    "to optimize the recall function using the entire data."
   ]
  },
  {
   "cell_type": "markdown",
   "metadata": {},
   "source": [
    "# 3. SVD method (Matrix factorization): "
   ]
  },
  {
   "cell_type": "markdown",
   "metadata": {},
   "source": [
    "One way to individualize the “relatedness” of movies for a particular user is to know his preferences.\n",
    "The users’ preferences are usually collected through the ratings that the user has seen: matrix\n",
    "decomposition is a way to predict the rating for a movie not already rated by a user.\n",
    "The matrix decomposition (SVD) is, to simplify, a ranked and reduced approximation of a dataset\n",
    "structure that would generalize to new data.\n",
    "\n",
    "Instead of a unique input (MovieId), taken into account the individuality of the recommendation will\n",
    "require two inputs: MovieId and UserId and output an estimated rating.\n",
    "    \n"
   ]
  },
  {
   "cell_type": "code",
   "execution_count": 58,
   "metadata": {},
   "outputs": [],
   "source": [
    "from surprise import Reader, Dataset, SVD, evaluate\n",
    "from surprise.model_selection import GridSearchCV"
   ]
  },
  {
   "cell_type": "code",
   "execution_count": 59,
   "metadata": {},
   "outputs": [
    {
     "data": {
      "text/plain": [
       "(26744, Index(['userId', 'movieId', 'rating', 'timestamp'], dtype='object'))"
      ]
     },
     "execution_count": 59,
     "metadata": {},
     "output_type": "execute_result"
    }
   ],
   "source": [
    "# load ratings file\n",
    "ratings_orig = pd.read_csv('/jet/prs/workspace/Movie/ml20m/ratings.csv')\n",
    "ratings_orig['movieId'] = ratings_orig['movieId'].astype(int)\n",
    "len(ratings_orig.movieId.unique()), ratings_orig.columns"
   ]
  },
  {
   "cell_type": "code",
   "execution_count": 60,
   "metadata": {},
   "outputs": [
    {
     "name": "stdout",
     "output_type": "stream",
     "text": [
      "<class 'pandas.core.frame.DataFrame'>\n",
      "RangeIndex: 20000263 entries, 0 to 20000262\n",
      "Data columns (total 4 columns):\n",
      "userId       int64\n",
      "movieId      int64\n",
      "rating       float64\n",
      "timestamp    int64\n",
      "dtypes: float64(1), int64(3)\n",
      "memory usage: 610.4 MB\n"
     ]
    }
   ],
   "source": [
    "ratings_orig.info()"
   ]
  },
  {
   "cell_type": "code",
   "execution_count": 61,
   "metadata": {},
   "outputs": [
    {
     "data": {
      "text/html": [
       "<div>\n",
       "<style scoped>\n",
       "    .dataframe tbody tr th:only-of-type {\n",
       "        vertical-align: middle;\n",
       "    }\n",
       "\n",
       "    .dataframe tbody tr th {\n",
       "        vertical-align: top;\n",
       "    }\n",
       "\n",
       "    .dataframe thead th {\n",
       "        text-align: right;\n",
       "    }\n",
       "</style>\n",
       "<table border=\"1\" class=\"dataframe\">\n",
       "  <thead>\n",
       "    <tr style=\"text-align: right;\">\n",
       "      <th></th>\n",
       "      <th>userId</th>\n",
       "      <th>movieId</th>\n",
       "      <th>rating</th>\n",
       "      <th>timestamp</th>\n",
       "    </tr>\n",
       "  </thead>\n",
       "  <tbody>\n",
       "    <tr>\n",
       "      <th>0</th>\n",
       "      <td>1</td>\n",
       "      <td>2</td>\n",
       "      <td>3.5</td>\n",
       "      <td>1112486027</td>\n",
       "    </tr>\n",
       "    <tr>\n",
       "      <th>1</th>\n",
       "      <td>1</td>\n",
       "      <td>29</td>\n",
       "      <td>3.5</td>\n",
       "      <td>1112484676</td>\n",
       "    </tr>\n",
       "    <tr>\n",
       "      <th>2</th>\n",
       "      <td>1</td>\n",
       "      <td>32</td>\n",
       "      <td>3.5</td>\n",
       "      <td>1112484819</td>\n",
       "    </tr>\n",
       "    <tr>\n",
       "      <th>3</th>\n",
       "      <td>1</td>\n",
       "      <td>47</td>\n",
       "      <td>3.5</td>\n",
       "      <td>1112484727</td>\n",
       "    </tr>\n",
       "    <tr>\n",
       "      <th>4</th>\n",
       "      <td>1</td>\n",
       "      <td>50</td>\n",
       "      <td>3.5</td>\n",
       "      <td>1112484580</td>\n",
       "    </tr>\n",
       "  </tbody>\n",
       "</table>\n",
       "</div>"
      ],
      "text/plain": [
       "   userId  movieId  rating   timestamp\n",
       "0       1        2     3.5  1112486027\n",
       "1       1       29     3.5  1112484676\n",
       "2       1       32     3.5  1112484819\n",
       "3       1       47     3.5  1112484727\n",
       "4       1       50     3.5  1112484580"
      ]
     },
     "execution_count": 61,
     "metadata": {},
     "output_type": "execute_result"
    }
   ],
   "source": [
    "ratings_orig.head()"
   ]
  },
  {
   "cell_type": "code",
   "execution_count": 62,
   "metadata": {
    "scrolled": false
   },
   "outputs": [
    {
     "data": {
      "text/plain": [
       "(20000263,)"
      ]
     },
     "execution_count": 62,
     "metadata": {},
     "output_type": "execute_result"
    }
   ],
   "source": [
    "ratings_orig['movieId'].shape"
   ]
  },
  {
   "cell_type": "code",
   "execution_count": 63,
   "metadata": {},
   "outputs": [
    {
     "data": {
      "text/plain": [
       "(15399958, 4)"
      ]
     },
     "execution_count": 63,
     "metadata": {},
     "output_type": "execute_result"
    }
   ],
   "source": [
    "# for consistency, we only keep the moviesId selected above\n",
    "ratings_orig = ratings_orig.loc[ratings_orig['movieId'].isin(movies_met2.movieId.tolist())]\n",
    "ratings_orig.shape"
   ]
  },
  {
   "cell_type": "code",
   "execution_count": 64,
   "metadata": {},
   "outputs": [],
   "source": [
    "# https://surprise.readthedocs.io/en/stable/getting_started.html#use-a-custom-dataset\n",
    "\n",
    "reader = Reader()\n",
    "data = Dataset.load_from_df(ratings_orig[['userId', 'movieId', 'rating']], reader)\n",
    "data.split(n_folds=5)"
   ]
  },
  {
   "cell_type": "code",
   "execution_count": null,
   "metadata": {},
   "outputs": [],
   "source": [
    "\n",
    "# param_grid = {'n_epochs': [2, 5, 10, 15], \n",
    "#               'lr_all': [0.002, 0.005],\n",
    "#               'reg_all': [0.4, 0.6],\n",
    "#              }\n",
    "# gs = GridSearchCV(SVD, param_grid, measures=['rmse', 'mae'], cv=5, n_jobs=-1)\n",
    "\n",
    "# gs.fit(data )\n",
    "\n",
    "# # best RMSE score\n",
    "# print(gs.best_score['rmse'])\n",
    "\n",
    "# # combination of parameters that gave the best RMSE score\n",
    "# print(gs.best_params['rmse'])"
   ]
  },
  {
   "cell_type": "code",
   "execution_count": 66,
   "metadata": {},
   "outputs": [],
   "source": [
    "# Results\n",
    "# 0.893147497881\n",
    "# {'n_epochs': 15, 'lr_all': 0.002, 'reg_all': 0.4}"
   ]
  },
  {
   "cell_type": "code",
   "execution_count": 67,
   "metadata": {},
   "outputs": [],
   "source": [
    "#given the parameters from the Gridsearch:\n",
    "svd = SVD(n_epochs=15, lr_all=0.002, reg_all=0.4)"
   ]
  },
  {
   "cell_type": "code",
   "execution_count": 68,
   "metadata": {},
   "outputs": [
    {
     "data": {
      "text/plain": [
       "<surprise.prediction_algorithms.matrix_factorization.SVD at 0x7fd48b0619e8>"
      ]
     },
     "execution_count": 68,
     "metadata": {},
     "output_type": "execute_result"
    }
   ],
   "source": [
    "# we retrained on full dataset:\n",
    "full_trn = data.build_full_trainset()\n",
    "svd.fit(full_trn)"
   ]
  },
  {
   "cell_type": "code",
   "execution_count": 69,
   "metadata": {},
   "outputs": [
    {
     "data": {
      "text/html": [
       "<div>\n",
       "<style scoped>\n",
       "    .dataframe tbody tr th:only-of-type {\n",
       "        vertical-align: middle;\n",
       "    }\n",
       "\n",
       "    .dataframe tbody tr th {\n",
       "        vertical-align: top;\n",
       "    }\n",
       "\n",
       "    .dataframe thead th {\n",
       "        text-align: right;\n",
       "    }\n",
       "</style>\n",
       "<table border=\"1\" class=\"dataframe\">\n",
       "  <thead>\n",
       "    <tr style=\"text-align: right;\">\n",
       "      <th></th>\n",
       "      <th>userId</th>\n",
       "      <th>movieId</th>\n",
       "      <th>rating</th>\n",
       "      <th>timestamp</th>\n",
       "    </tr>\n",
       "  </thead>\n",
       "  <tbody>\n",
       "    <tr>\n",
       "      <th>0</th>\n",
       "      <td>1</td>\n",
       "      <td>2</td>\n",
       "      <td>3.5</td>\n",
       "      <td>1112486027</td>\n",
       "    </tr>\n",
       "    <tr>\n",
       "      <th>1</th>\n",
       "      <td>1</td>\n",
       "      <td>29</td>\n",
       "      <td>3.5</td>\n",
       "      <td>1112484676</td>\n",
       "    </tr>\n",
       "    <tr>\n",
       "      <th>2</th>\n",
       "      <td>1</td>\n",
       "      <td>32</td>\n",
       "      <td>3.5</td>\n",
       "      <td>1112484819</td>\n",
       "    </tr>\n",
       "    <tr>\n",
       "      <th>3</th>\n",
       "      <td>1</td>\n",
       "      <td>47</td>\n",
       "      <td>3.5</td>\n",
       "      <td>1112484727</td>\n",
       "    </tr>\n",
       "    <tr>\n",
       "      <th>4</th>\n",
       "      <td>1</td>\n",
       "      <td>50</td>\n",
       "      <td>3.5</td>\n",
       "      <td>1112484580</td>\n",
       "    </tr>\n",
       "  </tbody>\n",
       "</table>\n",
       "</div>"
      ],
      "text/plain": [
       "   userId  movieId  rating   timestamp\n",
       "0       1        2     3.5  1112486027\n",
       "1       1       29     3.5  1112484676\n",
       "2       1       32     3.5  1112484819\n",
       "3       1       47     3.5  1112484727\n",
       "4       1       50     3.5  1112484580"
      ]
     },
     "execution_count": 69,
     "metadata": {},
     "output_type": "execute_result"
    }
   ],
   "source": [
    "ratings_orig[ratings_orig['userId'] == 1].head()"
   ]
  },
  {
   "cell_type": "code",
   "execution_count": 75,
   "metadata": {},
   "outputs": [
    {
     "data": {
      "text/plain": [
       "(3.7185185185185183, 0.3541197169153909)"
      ]
     },
     "execution_count": 75,
     "metadata": {},
     "output_type": "execute_result"
    }
   ],
   "source": [
    "# this user#1 has been using the spectrum of ratings\n",
    "ratings_orig[ratings_orig['userId'] == 1]['rating'].mean(), ratings_orig[ratings_orig['userId'] == 1]['rating'].std()"
   ]
  },
  {
   "cell_type": "code",
   "execution_count": 71,
   "metadata": {},
   "outputs": [
    {
     "data": {
      "text/plain": [
       "Prediction(uid=1, iid=1, r_ui=None, est=3.8494515896441737, details={'was_impossible': False})"
      ]
     },
     "execution_count": 71,
     "metadata": {},
     "output_type": "execute_result"
    }
   ],
   "source": [
    "svd.predict(1, 1)"
   ]
  },
  {
   "cell_type": "code",
   "execution_count": 73,
   "metadata": {},
   "outputs": [
    {
     "name": "stdout",
     "output_type": "stream",
     "text": [
      "estimated rating of user #1 for movie id #1 is :  3.84945158964\n"
     ]
    }
   ],
   "source": [
    "print('estimated rating of user #1 for movie id #1 is : ', svd.predict(1, 1).est)"
   ]
  },
  {
   "cell_type": "code",
   "execution_count": null,
   "metadata": {},
   "outputs": [],
   "source": []
  },
  {
   "cell_type": "code",
   "execution_count": 74,
   "metadata": {},
   "outputs": [
    {
     "data": {
      "text/html": [
       "<div>\n",
       "<style scoped>\n",
       "    .dataframe tbody tr th:only-of-type {\n",
       "        vertical-align: middle;\n",
       "    }\n",
       "\n",
       "    .dataframe tbody tr th {\n",
       "        vertical-align: top;\n",
       "    }\n",
       "\n",
       "    .dataframe thead th {\n",
       "        text-align: right;\n",
       "    }\n",
       "</style>\n",
       "<table border=\"1\" class=\"dataframe\">\n",
       "  <thead>\n",
       "    <tr style=\"text-align: right;\">\n",
       "      <th></th>\n",
       "      <th>userId</th>\n",
       "      <th>movieId</th>\n",
       "      <th>rating</th>\n",
       "      <th>timestamp</th>\n",
       "    </tr>\n",
       "  </thead>\n",
       "  <tbody>\n",
       "    <tr>\n",
       "      <th>19</th>\n",
       "      <td>1</td>\n",
       "      <td>919</td>\n",
       "      <td>3.5</td>\n",
       "      <td>1094785621</td>\n",
       "    </tr>\n",
       "    <tr>\n",
       "      <th>20</th>\n",
       "      <td>1</td>\n",
       "      <td>924</td>\n",
       "      <td>3.5</td>\n",
       "      <td>1094785598</td>\n",
       "    </tr>\n",
       "    <tr>\n",
       "      <th>21</th>\n",
       "      <td>1</td>\n",
       "      <td>1009</td>\n",
       "      <td>3.5</td>\n",
       "      <td>1112486013</td>\n",
       "    </tr>\n",
       "    <tr>\n",
       "      <th>22</th>\n",
       "      <td>1</td>\n",
       "      <td>1036</td>\n",
       "      <td>4.0</td>\n",
       "      <td>1112485480</td>\n",
       "    </tr>\n",
       "    <tr>\n",
       "      <th>23</th>\n",
       "      <td>1</td>\n",
       "      <td>1079</td>\n",
       "      <td>4.0</td>\n",
       "      <td>1094785665</td>\n",
       "    </tr>\n",
       "  </tbody>\n",
       "</table>\n",
       "</div>"
      ],
      "text/plain": [
       "    userId  movieId  rating   timestamp\n",
       "19       1      919     3.5  1094785621\n",
       "20       1      924     3.5  1094785598\n",
       "21       1     1009     3.5  1112486013\n",
       "22       1     1036     4.0  1112485480\n",
       "23       1     1079     4.0  1094785665"
      ]
     },
     "execution_count": 74,
     "metadata": {},
     "output_type": "execute_result"
    }
   ],
   "source": [
    "ratings_orig[(ratings_orig['userId'] == 1) & (ratings_orig['movieId'] >= 850)].head()"
   ]
  },
  {
   "cell_type": "code",
   "execution_count": 76,
   "metadata": {},
   "outputs": [
    {
     "name": "stdout",
     "output_type": "stream",
     "text": [
      "estimated rating of user #1 for movie id #858 is :  4.1107564988\n"
     ]
    }
   ],
   "source": [
    "print('estimated rating of user #1 for movie id #858 is : ', svd.predict(1, 858).est)"
   ]
  },
  {
   "cell_type": "markdown",
   "metadata": {},
   "source": [
    "The estimated ratings can be used by itself or with the movie’s features we suggested in the previous\n",
    "part to make individualized movie recommendations."
   ]
  },
  {
   "cell_type": "markdown",
   "metadata": {},
   "source": [
    "One thing to dig in SVD is the meaning/repurpose of U and V in M = U.D.V* "
   ]
  },
  {
   "cell_type": "code",
   "execution_count": null,
   "metadata": {},
   "outputs": [],
   "source": []
  },
  {
   "cell_type": "code",
   "execution_count": null,
   "metadata": {},
   "outputs": [],
   "source": []
  },
  {
   "cell_type": "markdown",
   "metadata": {},
   "source": [
    "# 4. other potential methods to explore: "
   ]
  },
  {
   "cell_type": "markdown",
   "metadata": {},
   "source": [
    "A. Sequence or one-to-Sequence (time series)\n",
    "\n",
    "Since the movies have an issuance date and a time is provided for the users’ ratings, we could transform\n",
    "the history of movies seen by an user into a time series problem where a movie and its characteristics\n",
    "(which can be associated to a user and its characteristics) are the inputs and the model predict a list of\n",
    "movies as an output. The advantage of this method is that it can take a lot of features as inputs.\n",
    "However, using deep learning neural network (LSTM), it would require a lot of ordered observations.\n",
    "\n",
    "B. Learning to rank\n",
    "\n",
    "In the time allocated to this challenge, I also read about Learning to rank (and pairwise ranking).\n",
    "Understanding how to implement such models would require additional research."
   ]
  },
  {
   "cell_type": "code",
   "execution_count": null,
   "metadata": {},
   "outputs": [],
   "source": []
  }
 ],
 "metadata": {
  "kernelspec": {
   "display_name": "Python 3",
   "language": "python",
   "name": "python3"
  },
  "language_info": {
   "codemirror_mode": {
    "name": "ipython",
    "version": 3
   },
   "file_extension": ".py",
   "mimetype": "text/x-python",
   "name": "python",
   "nbconvert_exporter": "python",
   "pygments_lexer": "ipython3",
   "version": "3.6.3"
  }
 },
 "nbformat": 4,
 "nbformat_minor": 2
}
